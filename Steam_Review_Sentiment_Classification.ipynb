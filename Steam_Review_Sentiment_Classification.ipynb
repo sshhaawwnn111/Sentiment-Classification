{
  "cells": [
    {
      "cell_type": "markdown",
      "metadata": {
        "id": "t-J2E5loBbbi"
      },
      "source": [
        "# Steam Review Classification"
      ]
    },
    {
      "cell_type": "markdown",
      "metadata": {
        "id": "4LBnPTX2Bbbl"
      },
      "source": [
        "1. Hit play button (or `Shift+Enter`) to execute a cell.\n",
        "1. If you encounter any issue, press `Kernel -> Restart Kernel` to restart.\n",
        "\n",
        "---\n",
        "\n",
        "#### Name: 王軒\n",
        "#### Student ID: 0816095\n",
        "\n",
        "---\n",
        "\n",
        "_TA_ once **said**\n",
        "> Please use jupyter\n",
        "\n",
        "[See more `markdown` useage](https://www.markdownguide.org/basic-syntax/)"
      ]
    },
    {
      "cell_type": "code",
      "execution_count": 15,
      "metadata": {
        "id": "MksgIVcKBbbm"
      },
      "outputs": [],
      "source": [
        "import numpy as np\n",
        "import pandas as pd\n",
        "import matplotlib.pyplot as plt\n",
        "import urllib3\n",
        "\n",
        "%matplotlib inline"
      ]
    },
    {
      "cell_type": "code",
      "execution_count": 16,
      "metadata": {
        "id": "gyL8zaHtIubH"
      },
      "outputs": [],
      "source": [
        "df1 = pd.read_json('review.jl', lines=True)\n",
        "df2 = pd.read_json('products.jl', lines=True)"
      ]
    },
    {
      "cell_type": "code",
      "execution_count": 17,
      "metadata": {
        "colab": {
          "base_uri": "https://localhost:8080/",
          "height": 423
        },
        "id": "-UtzNFNeJqMX",
        "outputId": "211c29e6-dd0d-48c6-9a6f-67348d6f3c18"
      },
      "outputs": [
        {
          "data": {
            "text/html": [
              "\n",
              "  <div id=\"df-4d742bf6-ca16-49e7-9ab0-25acf67e5855\">\n",
              "    <div class=\"colab-df-container\">\n",
              "      <div>\n",
              "<style scoped>\n",
              "    .dataframe tbody tr th:only-of-type {\n",
              "        vertical-align: middle;\n",
              "    }\n",
              "\n",
              "    .dataframe tbody tr th {\n",
              "        vertical-align: top;\n",
              "    }\n",
              "\n",
              "    .dataframe thead th {\n",
              "        text-align: right;\n",
              "    }\n",
              "</style>\n",
              "<table border=\"1\" class=\"dataframe\">\n",
              "  <thead>\n",
              "    <tr style=\"text-align: right;\">\n",
              "      <th></th>\n",
              "      <th>product_id</th>\n",
              "      <th>recommended</th>\n",
              "      <th>text</th>\n",
              "    </tr>\n",
              "  </thead>\n",
              "  <tbody>\n",
              "    <tr>\n",
              "      <th>0</th>\n",
              "      <td>1644960</td>\n",
              "      <td>False</td>\n",
              "      <td>this game is ♥♥♥♥ if u dont have ur moms credi...</td>\n",
              "    </tr>\n",
              "    <tr>\n",
              "      <th>1</th>\n",
              "      <td>1644960</td>\n",
              "      <td>True</td>\n",
              "      <td>Was happy with NBA2K21 but somehow I felt the ...</td>\n",
              "    </tr>\n",
              "    <tr>\n",
              "      <th>2</th>\n",
              "      <td>1644960</td>\n",
              "      <td>True</td>\n",
              "      <td>Its honestly an amazing game, very fun to buil...</td>\n",
              "    </tr>\n",
              "    <tr>\n",
              "      <th>3</th>\n",
              "      <td>1644960</td>\n",
              "      <td>False</td>\n",
              "      <td>This game is garbage. Pure hot garbage, Server...</td>\n",
              "    </tr>\n",
              "    <tr>\n",
              "      <th>4</th>\n",
              "      <td>1644960</td>\n",
              "      <td>False</td>\n",
              "      <td>I cant stand this game anymore, I really tried...</td>\n",
              "    </tr>\n",
              "    <tr>\n",
              "      <th>...</th>\n",
              "      <td>...</td>\n",
              "      <td>...</td>\n",
              "      <td>...</td>\n",
              "    </tr>\n",
              "    <tr>\n",
              "      <th>47995</th>\n",
              "      <td>285190</td>\n",
              "      <td>True</td>\n",
              "      <td>this game is great</td>\n",
              "    </tr>\n",
              "    <tr>\n",
              "      <th>47996</th>\n",
              "      <td>285190</td>\n",
              "      <td>False</td>\n",
              "      <td>If you are a warhammer fan go for soulstorm or...</td>\n",
              "    </tr>\n",
              "    <tr>\n",
              "      <th>47997</th>\n",
              "      <td>285190</td>\n",
              "      <td>True</td>\n",
              "      <td>I wish the 40k community hadn't killed this ga...</td>\n",
              "    </tr>\n",
              "    <tr>\n",
              "      <th>47998</th>\n",
              "      <td>285190</td>\n",
              "      <td>True</td>\n",
              "      <td>I would recommend this game.\\nDespite the hone...</td>\n",
              "    </tr>\n",
              "    <tr>\n",
              "      <th>47999</th>\n",
              "      <td>285190</td>\n",
              "      <td>False</td>\n",
              "      <td>well.....got nothing but sadness. Lack of race...</td>\n",
              "    </tr>\n",
              "  </tbody>\n",
              "</table>\n",
              "<p>48000 rows × 3 columns</p>\n",
              "</div>\n",
              "      <button class=\"colab-df-convert\" onclick=\"convertToInteractive('df-4d742bf6-ca16-49e7-9ab0-25acf67e5855')\"\n",
              "              title=\"Convert this dataframe to an interactive table.\"\n",
              "              style=\"display:none;\">\n",
              "        \n",
              "  <svg xmlns=\"http://www.w3.org/2000/svg\" height=\"24px\"viewBox=\"0 0 24 24\"\n",
              "       width=\"24px\">\n",
              "    <path d=\"M0 0h24v24H0V0z\" fill=\"none\"/>\n",
              "    <path d=\"M18.56 5.44l.94 2.06.94-2.06 2.06-.94-2.06-.94-.94-2.06-.94 2.06-2.06.94zm-11 1L8.5 8.5l.94-2.06 2.06-.94-2.06-.94L8.5 2.5l-.94 2.06-2.06.94zm10 10l.94 2.06.94-2.06 2.06-.94-2.06-.94-.94-2.06-.94 2.06-2.06.94z\"/><path d=\"M17.41 7.96l-1.37-1.37c-.4-.4-.92-.59-1.43-.59-.52 0-1.04.2-1.43.59L10.3 9.45l-7.72 7.72c-.78.78-.78 2.05 0 2.83L4 21.41c.39.39.9.59 1.41.59.51 0 1.02-.2 1.41-.59l7.78-7.78 2.81-2.81c.8-.78.8-2.07 0-2.86zM5.41 20L4 18.59l7.72-7.72 1.47 1.35L5.41 20z\"/>\n",
              "  </svg>\n",
              "      </button>\n",
              "      \n",
              "  <style>\n",
              "    .colab-df-container {\n",
              "      display:flex;\n",
              "      flex-wrap:wrap;\n",
              "      gap: 12px;\n",
              "    }\n",
              "\n",
              "    .colab-df-convert {\n",
              "      background-color: #E8F0FE;\n",
              "      border: none;\n",
              "      border-radius: 50%;\n",
              "      cursor: pointer;\n",
              "      display: none;\n",
              "      fill: #1967D2;\n",
              "      height: 32px;\n",
              "      padding: 0 0 0 0;\n",
              "      width: 32px;\n",
              "    }\n",
              "\n",
              "    .colab-df-convert:hover {\n",
              "      background-color: #E2EBFA;\n",
              "      box-shadow: 0px 1px 2px rgba(60, 64, 67, 0.3), 0px 1px 3px 1px rgba(60, 64, 67, 0.15);\n",
              "      fill: #174EA6;\n",
              "    }\n",
              "\n",
              "    [theme=dark] .colab-df-convert {\n",
              "      background-color: #3B4455;\n",
              "      fill: #D2E3FC;\n",
              "    }\n",
              "\n",
              "    [theme=dark] .colab-df-convert:hover {\n",
              "      background-color: #434B5C;\n",
              "      box-shadow: 0px 1px 3px 1px rgba(0, 0, 0, 0.15);\n",
              "      filter: drop-shadow(0px 1px 2px rgba(0, 0, 0, 0.3));\n",
              "      fill: #FFFFFF;\n",
              "    }\n",
              "  </style>\n",
              "\n",
              "      <script>\n",
              "        const buttonEl =\n",
              "          document.querySelector('#df-4d742bf6-ca16-49e7-9ab0-25acf67e5855 button.colab-df-convert');\n",
              "        buttonEl.style.display =\n",
              "          google.colab.kernel.accessAllowed ? 'block' : 'none';\n",
              "\n",
              "        async function convertToInteractive(key) {\n",
              "          const element = document.querySelector('#df-4d742bf6-ca16-49e7-9ab0-25acf67e5855');\n",
              "          const dataTable =\n",
              "            await google.colab.kernel.invokeFunction('convertToInteractive',\n",
              "                                                     [key], {});\n",
              "          if (!dataTable) return;\n",
              "\n",
              "          const docLinkHtml = 'Like what you see? Visit the ' +\n",
              "            '<a target=\"_blank\" href=https://colab.research.google.com/notebooks/data_table.ipynb>data table notebook</a>'\n",
              "            + ' to learn more about interactive tables.';\n",
              "          element.innerHTML = '';\n",
              "          dataTable['output_type'] = 'display_data';\n",
              "          await google.colab.output.renderOutput(dataTable, element);\n",
              "          const docLink = document.createElement('div');\n",
              "          docLink.innerHTML = docLinkHtml;\n",
              "          element.appendChild(docLink);\n",
              "        }\n",
              "      </script>\n",
              "    </div>\n",
              "  </div>\n",
              "  "
            ],
            "text/plain": [
              "       product_id  ...                                               text\n",
              "0         1644960  ...  this game is ♥♥♥♥ if u dont have ur moms credi...\n",
              "1         1644960  ...  Was happy with NBA2K21 but somehow I felt the ...\n",
              "2         1644960  ...  Its honestly an amazing game, very fun to buil...\n",
              "3         1644960  ...  This game is garbage. Pure hot garbage, Server...\n",
              "4         1644960  ...  I cant stand this game anymore, I really tried...\n",
              "...           ...  ...                                                ...\n",
              "47995      285190  ...                                 this game is great\n",
              "47996      285190  ...  If you are a warhammer fan go for soulstorm or...\n",
              "47997      285190  ...  I wish the 40k community hadn't killed this ga...\n",
              "47998      285190  ...  I would recommend this game.\\nDespite the hone...\n",
              "47999      285190  ...  well.....got nothing but sadness. Lack of race...\n",
              "\n",
              "[48000 rows x 3 columns]"
            ]
          },
          "execution_count": 17,
          "metadata": {},
          "output_type": "execute_result"
        }
      ],
      "source": [
        "df1 = df1[['product_id', 'recommended', 'text']]\n",
        "df1 = df1.dropna()\n",
        "df1"
      ]
    },
    {
      "cell_type": "code",
      "execution_count": 18,
      "metadata": {
        "colab": {
          "base_uri": "https://localhost:8080/",
          "height": 423
        },
        "id": "CCkbLH7xKbWl",
        "outputId": "697ac31c-2806-4d44-c084-e81db903686a"
      },
      "outputs": [
        {
          "data": {
            "text/html": [
              "\n",
              "  <div id=\"df-55506125-8a88-40be-a0d0-49482947a454\">\n",
              "    <div class=\"colab-df-container\">\n",
              "      <div>\n",
              "<style scoped>\n",
              "    .dataframe tbody tr th:only-of-type {\n",
              "        vertical-align: middle;\n",
              "    }\n",
              "\n",
              "    .dataframe tbody tr th {\n",
              "        vertical-align: top;\n",
              "    }\n",
              "\n",
              "    .dataframe thead th {\n",
              "        text-align: right;\n",
              "    }\n",
              "</style>\n",
              "<table border=\"1\" class=\"dataframe\">\n",
              "  <thead>\n",
              "    <tr style=\"text-align: right;\">\n",
              "      <th></th>\n",
              "      <th>product_id</th>\n",
              "      <th>tags</th>\n",
              "    </tr>\n",
              "  </thead>\n",
              "  <tbody>\n",
              "    <tr>\n",
              "      <th>0</th>\n",
              "      <td>1644960</td>\n",
              "      <td>Sports,Basketball,Simulation,eSports,Realistic...</td>\n",
              "    </tr>\n",
              "    <tr>\n",
              "      <th>1</th>\n",
              "      <td>1644960</td>\n",
              "      <td>Zombies,Online Co-Op,Action,Multiplayer,Shoote...</td>\n",
              "    </tr>\n",
              "    <tr>\n",
              "      <th>2</th>\n",
              "      <td>872410</td>\n",
              "      <td>Simulation,Strategy,Historical,Singleplayer,Gr...</td>\n",
              "    </tr>\n",
              "    <tr>\n",
              "      <th>3</th>\n",
              "      <td>1517290</td>\n",
              "      <td>Shooter,Action,Multiplayer,FPS,War,First-Perso...</td>\n",
              "    </tr>\n",
              "    <tr>\n",
              "      <th>4</th>\n",
              "      <td>1063730</td>\n",
              "      <td>Massively Multiplayer,Open World,MMORPG,Advent...</td>\n",
              "    </tr>\n",
              "    <tr>\n",
              "      <th>...</th>\n",
              "      <td>...</td>\n",
              "      <td>...</td>\n",
              "    </tr>\n",
              "    <tr>\n",
              "      <th>74</th>\n",
              "      <td>65980</td>\n",
              "      <td>Strategy,Turn-Based Strategy,Sci-fi,Space,4X,T...</td>\n",
              "    </tr>\n",
              "    <tr>\n",
              "      <th>75</th>\n",
              "      <td>548570</td>\n",
              "      <td>Action,FPS,Open World,Post-apocalyptic,Vehicul...</td>\n",
              "    </tr>\n",
              "    <tr>\n",
              "      <th>76</th>\n",
              "      <td>48240</td>\n",
              "      <td>Strategy,City Builder,Simulation,Futuristic,RT...</td>\n",
              "    </tr>\n",
              "    <tr>\n",
              "      <th>77</th>\n",
              "      <td>402710</td>\n",
              "      <td>Open World Survival Craft,Horror,Survival,Spac...</td>\n",
              "    </tr>\n",
              "    <tr>\n",
              "      <th>78</th>\n",
              "      <td>637670</td>\n",
              "      <td>JRPG,RPG,Singleplayer,Great Soundtrack,Story R...</td>\n",
              "    </tr>\n",
              "  </tbody>\n",
              "</table>\n",
              "<p>79 rows × 2 columns</p>\n",
              "</div>\n",
              "      <button class=\"colab-df-convert\" onclick=\"convertToInteractive('df-55506125-8a88-40be-a0d0-49482947a454')\"\n",
              "              title=\"Convert this dataframe to an interactive table.\"\n",
              "              style=\"display:none;\">\n",
              "        \n",
              "  <svg xmlns=\"http://www.w3.org/2000/svg\" height=\"24px\"viewBox=\"0 0 24 24\"\n",
              "       width=\"24px\">\n",
              "    <path d=\"M0 0h24v24H0V0z\" fill=\"none\"/>\n",
              "    <path d=\"M18.56 5.44l.94 2.06.94-2.06 2.06-.94-2.06-.94-.94-2.06-.94 2.06-2.06.94zm-11 1L8.5 8.5l.94-2.06 2.06-.94-2.06-.94L8.5 2.5l-.94 2.06-2.06.94zm10 10l.94 2.06.94-2.06 2.06-.94-2.06-.94-.94-2.06-.94 2.06-2.06.94z\"/><path d=\"M17.41 7.96l-1.37-1.37c-.4-.4-.92-.59-1.43-.59-.52 0-1.04.2-1.43.59L10.3 9.45l-7.72 7.72c-.78.78-.78 2.05 0 2.83L4 21.41c.39.39.9.59 1.41.59.51 0 1.02-.2 1.41-.59l7.78-7.78 2.81-2.81c.8-.78.8-2.07 0-2.86zM5.41 20L4 18.59l7.72-7.72 1.47 1.35L5.41 20z\"/>\n",
              "  </svg>\n",
              "      </button>\n",
              "      \n",
              "  <style>\n",
              "    .colab-df-container {\n",
              "      display:flex;\n",
              "      flex-wrap:wrap;\n",
              "      gap: 12px;\n",
              "    }\n",
              "\n",
              "    .colab-df-convert {\n",
              "      background-color: #E8F0FE;\n",
              "      border: none;\n",
              "      border-radius: 50%;\n",
              "      cursor: pointer;\n",
              "      display: none;\n",
              "      fill: #1967D2;\n",
              "      height: 32px;\n",
              "      padding: 0 0 0 0;\n",
              "      width: 32px;\n",
              "    }\n",
              "\n",
              "    .colab-df-convert:hover {\n",
              "      background-color: #E2EBFA;\n",
              "      box-shadow: 0px 1px 2px rgba(60, 64, 67, 0.3), 0px 1px 3px 1px rgba(60, 64, 67, 0.15);\n",
              "      fill: #174EA6;\n",
              "    }\n",
              "\n",
              "    [theme=dark] .colab-df-convert {\n",
              "      background-color: #3B4455;\n",
              "      fill: #D2E3FC;\n",
              "    }\n",
              "\n",
              "    [theme=dark] .colab-df-convert:hover {\n",
              "      background-color: #434B5C;\n",
              "      box-shadow: 0px 1px 3px 1px rgba(0, 0, 0, 0.15);\n",
              "      filter: drop-shadow(0px 1px 2px rgba(0, 0, 0, 0.3));\n",
              "      fill: #FFFFFF;\n",
              "    }\n",
              "  </style>\n",
              "\n",
              "      <script>\n",
              "        const buttonEl =\n",
              "          document.querySelector('#df-55506125-8a88-40be-a0d0-49482947a454 button.colab-df-convert');\n",
              "        buttonEl.style.display =\n",
              "          google.colab.kernel.accessAllowed ? 'block' : 'none';\n",
              "\n",
              "        async function convertToInteractive(key) {\n",
              "          const element = document.querySelector('#df-55506125-8a88-40be-a0d0-49482947a454');\n",
              "          const dataTable =\n",
              "            await google.colab.kernel.invokeFunction('convertToInteractive',\n",
              "                                                     [key], {});\n",
              "          if (!dataTable) return;\n",
              "\n",
              "          const docLinkHtml = 'Like what you see? Visit the ' +\n",
              "            '<a target=\"_blank\" href=https://colab.research.google.com/notebooks/data_table.ipynb>data table notebook</a>'\n",
              "            + ' to learn more about interactive tables.';\n",
              "          element.innerHTML = '';\n",
              "          dataTable['output_type'] = 'display_data';\n",
              "          await google.colab.output.renderOutput(dataTable, element);\n",
              "          const docLink = document.createElement('div');\n",
              "          docLink.innerHTML = docLinkHtml;\n",
              "          element.appendChild(docLink);\n",
              "        }\n",
              "      </script>\n",
              "    </div>\n",
              "  </div>\n",
              "  "
            ],
            "text/plain": [
              "    product_id                                               tags\n",
              "0      1644960  Sports,Basketball,Simulation,eSports,Realistic...\n",
              "1      1644960  Zombies,Online Co-Op,Action,Multiplayer,Shoote...\n",
              "2       872410  Simulation,Strategy,Historical,Singleplayer,Gr...\n",
              "3      1517290  Shooter,Action,Multiplayer,FPS,War,First-Perso...\n",
              "4      1063730  Massively Multiplayer,Open World,MMORPG,Advent...\n",
              "..         ...                                                ...\n",
              "74       65980  Strategy,Turn-Based Strategy,Sci-fi,Space,4X,T...\n",
              "75      548570  Action,FPS,Open World,Post-apocalyptic,Vehicul...\n",
              "76       48240  Strategy,City Builder,Simulation,Futuristic,RT...\n",
              "77      402710  Open World Survival Craft,Horror,Survival,Spac...\n",
              "78      637670  JRPG,RPG,Singleplayer,Great Soundtrack,Story R...\n",
              "\n",
              "[79 rows x 2 columns]"
            ]
          },
          "execution_count": 18,
          "metadata": {},
          "output_type": "execute_result"
        }
      ],
      "source": [
        "df2['tags'] = df2['tags'].apply(','.join)\n",
        "# df2['genres'] = df2['genres'].apply(','.join)\n",
        "df2 = df2[['id', 'tags']]\n",
        "df2 = df2.dropna()\n",
        "df2 = df2.rename({'id':'product_id'}, axis='columns')\n",
        "df2"
      ]
    },
    {
      "cell_type": "code",
      "execution_count": 19,
      "metadata": {
        "colab": {
          "base_uri": "https://localhost:8080/",
          "height": 423
        },
        "id": "bPsJXhes3pkY",
        "outputId": "fa1a2484-a26d-435c-e251-1859b87bf215"
      },
      "outputs": [
        {
          "data": {
            "text/html": [
              "\n",
              "  <div id=\"df-4ec57139-5ec1-48d9-93b0-7a52b861eab4\">\n",
              "    <div class=\"colab-df-container\">\n",
              "      <div>\n",
              "<style scoped>\n",
              "    .dataframe tbody tr th:only-of-type {\n",
              "        vertical-align: middle;\n",
              "    }\n",
              "\n",
              "    .dataframe tbody tr th {\n",
              "        vertical-align: top;\n",
              "    }\n",
              "\n",
              "    .dataframe thead th {\n",
              "        text-align: right;\n",
              "    }\n",
              "</style>\n",
              "<table border=\"1\" class=\"dataframe\">\n",
              "  <thead>\n",
              "    <tr style=\"text-align: right;\">\n",
              "      <th></th>\n",
              "      <th>tags</th>\n",
              "      <th>recommended</th>\n",
              "      <th>text</th>\n",
              "    </tr>\n",
              "  </thead>\n",
              "  <tbody>\n",
              "    <tr>\n",
              "      <th>0</th>\n",
              "      <td>Sports,Basketball,Simulation,eSports,Realistic...</td>\n",
              "      <td>False</td>\n",
              "      <td>this game is ♥♥♥♥ if u dont have ur moms credi...</td>\n",
              "    </tr>\n",
              "    <tr>\n",
              "      <th>1</th>\n",
              "      <td>Sports,Basketball,Simulation,eSports,Realistic...</td>\n",
              "      <td>True</td>\n",
              "      <td>Was happy with NBA2K21 but somehow I felt the ...</td>\n",
              "    </tr>\n",
              "    <tr>\n",
              "      <th>2</th>\n",
              "      <td>Sports,Basketball,Simulation,eSports,Realistic...</td>\n",
              "      <td>True</td>\n",
              "      <td>Its honestly an amazing game, very fun to buil...</td>\n",
              "    </tr>\n",
              "    <tr>\n",
              "      <th>3</th>\n",
              "      <td>Sports,Basketball,Simulation,eSports,Realistic...</td>\n",
              "      <td>False</td>\n",
              "      <td>This game is garbage. Pure hot garbage, Server...</td>\n",
              "    </tr>\n",
              "    <tr>\n",
              "      <th>4</th>\n",
              "      <td>Sports,Basketball,Simulation,eSports,Realistic...</td>\n",
              "      <td>False</td>\n",
              "      <td>I cant stand this game anymore, I really tried...</td>\n",
              "    </tr>\n",
              "    <tr>\n",
              "      <th>...</th>\n",
              "      <td>...</td>\n",
              "      <td>...</td>\n",
              "      <td>...</td>\n",
              "    </tr>\n",
              "    <tr>\n",
              "      <th>47910</th>\n",
              "      <td>JRPG,RPG,Singleplayer,Great Soundtrack,Story R...</td>\n",
              "      <td>True</td>\n",
              "      <td>I played the original back in grade school, an...</td>\n",
              "    </tr>\n",
              "    <tr>\n",
              "      <th>47911</th>\n",
              "      <td>JRPG,RPG,Singleplayer,Great Soundtrack,Story R...</td>\n",
              "      <td>True</td>\n",
              "      <td>The good:\\n60FPS\\nweapon acc has been incresse...</td>\n",
              "    </tr>\n",
              "    <tr>\n",
              "      <th>47912</th>\n",
              "      <td>JRPG,RPG,Singleplayer,Great Soundtrack,Story R...</td>\n",
              "      <td>True</td>\n",
              "      <td>Disclaimer: This review is being taken from an...</td>\n",
              "    </tr>\n",
              "    <tr>\n",
              "      <th>47913</th>\n",
              "      <td>JRPG,RPG,Singleplayer,Great Soundtrack,Story R...</td>\n",
              "      <td>True</td>\n",
              "      <td>This was one of the first games that really go...</td>\n",
              "    </tr>\n",
              "    <tr>\n",
              "      <th>47914</th>\n",
              "      <td>JRPG,RPG,Singleplayer,Great Soundtrack,Story R...</td>\n",
              "      <td>False</td>\n",
              "      <td>One of the few games I requested a refund for....</td>\n",
              "    </tr>\n",
              "  </tbody>\n",
              "</table>\n",
              "<p>47915 rows × 3 columns</p>\n",
              "</div>\n",
              "      <button class=\"colab-df-convert\" onclick=\"convertToInteractive('df-4ec57139-5ec1-48d9-93b0-7a52b861eab4')\"\n",
              "              title=\"Convert this dataframe to an interactive table.\"\n",
              "              style=\"display:none;\">\n",
              "        \n",
              "  <svg xmlns=\"http://www.w3.org/2000/svg\" height=\"24px\"viewBox=\"0 0 24 24\"\n",
              "       width=\"24px\">\n",
              "    <path d=\"M0 0h24v24H0V0z\" fill=\"none\"/>\n",
              "    <path d=\"M18.56 5.44l.94 2.06.94-2.06 2.06-.94-2.06-.94-.94-2.06-.94 2.06-2.06.94zm-11 1L8.5 8.5l.94-2.06 2.06-.94-2.06-.94L8.5 2.5l-.94 2.06-2.06.94zm10 10l.94 2.06.94-2.06 2.06-.94-2.06-.94-.94-2.06-.94 2.06-2.06.94z\"/><path d=\"M17.41 7.96l-1.37-1.37c-.4-.4-.92-.59-1.43-.59-.52 0-1.04.2-1.43.59L10.3 9.45l-7.72 7.72c-.78.78-.78 2.05 0 2.83L4 21.41c.39.39.9.59 1.41.59.51 0 1.02-.2 1.41-.59l7.78-7.78 2.81-2.81c.8-.78.8-2.07 0-2.86zM5.41 20L4 18.59l7.72-7.72 1.47 1.35L5.41 20z\"/>\n",
              "  </svg>\n",
              "      </button>\n",
              "      \n",
              "  <style>\n",
              "    .colab-df-container {\n",
              "      display:flex;\n",
              "      flex-wrap:wrap;\n",
              "      gap: 12px;\n",
              "    }\n",
              "\n",
              "    .colab-df-convert {\n",
              "      background-color: #E8F0FE;\n",
              "      border: none;\n",
              "      border-radius: 50%;\n",
              "      cursor: pointer;\n",
              "      display: none;\n",
              "      fill: #1967D2;\n",
              "      height: 32px;\n",
              "      padding: 0 0 0 0;\n",
              "      width: 32px;\n",
              "    }\n",
              "\n",
              "    .colab-df-convert:hover {\n",
              "      background-color: #E2EBFA;\n",
              "      box-shadow: 0px 1px 2px rgba(60, 64, 67, 0.3), 0px 1px 3px 1px rgba(60, 64, 67, 0.15);\n",
              "      fill: #174EA6;\n",
              "    }\n",
              "\n",
              "    [theme=dark] .colab-df-convert {\n",
              "      background-color: #3B4455;\n",
              "      fill: #D2E3FC;\n",
              "    }\n",
              "\n",
              "    [theme=dark] .colab-df-convert:hover {\n",
              "      background-color: #434B5C;\n",
              "      box-shadow: 0px 1px 3px 1px rgba(0, 0, 0, 0.15);\n",
              "      filter: drop-shadow(0px 1px 2px rgba(0, 0, 0, 0.3));\n",
              "      fill: #FFFFFF;\n",
              "    }\n",
              "  </style>\n",
              "\n",
              "      <script>\n",
              "        const buttonEl =\n",
              "          document.querySelector('#df-4ec57139-5ec1-48d9-93b0-7a52b861eab4 button.colab-df-convert');\n",
              "        buttonEl.style.display =\n",
              "          google.colab.kernel.accessAllowed ? 'block' : 'none';\n",
              "\n",
              "        async function convertToInteractive(key) {\n",
              "          const element = document.querySelector('#df-4ec57139-5ec1-48d9-93b0-7a52b861eab4');\n",
              "          const dataTable =\n",
              "            await google.colab.kernel.invokeFunction('convertToInteractive',\n",
              "                                                     [key], {});\n",
              "          if (!dataTable) return;\n",
              "\n",
              "          const docLinkHtml = 'Like what you see? Visit the ' +\n",
              "            '<a target=\"_blank\" href=https://colab.research.google.com/notebooks/data_table.ipynb>data table notebook</a>'\n",
              "            + ' to learn more about interactive tables.';\n",
              "          element.innerHTML = '';\n",
              "          dataTable['output_type'] = 'display_data';\n",
              "          await google.colab.output.renderOutput(dataTable, element);\n",
              "          const docLink = document.createElement('div');\n",
              "          docLink.innerHTML = docLinkHtml;\n",
              "          element.appendChild(docLink);\n",
              "        }\n",
              "      </script>\n",
              "    </div>\n",
              "  </div>\n",
              "  "
            ],
            "text/plain": [
              "                                                    tags  ...                                               text\n",
              "0      Sports,Basketball,Simulation,eSports,Realistic...  ...  this game is ♥♥♥♥ if u dont have ur moms credi...\n",
              "1      Sports,Basketball,Simulation,eSports,Realistic...  ...  Was happy with NBA2K21 but somehow I felt the ...\n",
              "2      Sports,Basketball,Simulation,eSports,Realistic...  ...  Its honestly an amazing game, very fun to buil...\n",
              "3      Sports,Basketball,Simulation,eSports,Realistic...  ...  This game is garbage. Pure hot garbage, Server...\n",
              "4      Sports,Basketball,Simulation,eSports,Realistic...  ...  I cant stand this game anymore, I really tried...\n",
              "...                                                  ...  ...                                                ...\n",
              "47910  JRPG,RPG,Singleplayer,Great Soundtrack,Story R...  ...  I played the original back in grade school, an...\n",
              "47911  JRPG,RPG,Singleplayer,Great Soundtrack,Story R...  ...  The good:\\n60FPS\\nweapon acc has been incresse...\n",
              "47912  JRPG,RPG,Singleplayer,Great Soundtrack,Story R...  ...  Disclaimer: This review is being taken from an...\n",
              "47913  JRPG,RPG,Singleplayer,Great Soundtrack,Story R...  ...  This was one of the first games that really go...\n",
              "47914  JRPG,RPG,Singleplayer,Great Soundtrack,Story R...  ...  One of the few games I requested a refund for....\n",
              "\n",
              "[47915 rows x 3 columns]"
            ]
          },
          "execution_count": 19,
          "metadata": {},
          "output_type": "execute_result"
        }
      ],
      "source": [
        "df3=pd.merge(df2,df1,on='product_id',how='inner')\n",
        "df3 = df3.drop(['product_id'], axis = 1)\n",
        "df3"
      ]
    },
    {
      "cell_type": "code",
      "execution_count": 20,
      "metadata": {
        "colab": {
          "base_uri": "https://localhost:8080/",
          "height": 175
        },
        "id": "XHaQcKmzXzvt",
        "outputId": "e71d0526-573e-496f-b265-b65f4e7c5f25"
      },
      "outputs": [
        {
          "data": {
            "text/html": [
              "\n",
              "  <div id=\"df-bf17b061-ccb8-4203-a838-8aabfb5ec1f8\">\n",
              "    <div class=\"colab-df-container\">\n",
              "      <div>\n",
              "<style scoped>\n",
              "    .dataframe tbody tr th:only-of-type {\n",
              "        vertical-align: middle;\n",
              "    }\n",
              "\n",
              "    .dataframe tbody tr th {\n",
              "        vertical-align: top;\n",
              "    }\n",
              "\n",
              "    .dataframe thead th {\n",
              "        text-align: right;\n",
              "    }\n",
              "</style>\n",
              "<table border=\"1\" class=\"dataframe\">\n",
              "  <thead>\n",
              "    <tr style=\"text-align: right;\">\n",
              "      <th></th>\n",
              "      <th>tags</th>\n",
              "      <th>recommended</th>\n",
              "      <th>text</th>\n",
              "    </tr>\n",
              "  </thead>\n",
              "  <tbody>\n",
              "    <tr>\n",
              "      <th>count</th>\n",
              "      <td>43914</td>\n",
              "      <td>43914</td>\n",
              "      <td>43914</td>\n",
              "    </tr>\n",
              "    <tr>\n",
              "      <th>unique</th>\n",
              "      <td>79</td>\n",
              "      <td>2</td>\n",
              "      <td>38943</td>\n",
              "    </tr>\n",
              "    <tr>\n",
              "      <th>top</th>\n",
              "      <td>Sports,Football,Controller,PvP,Realistic,Immer...</td>\n",
              "      <td>True</td>\n",
              "      <td>good</td>\n",
              "    </tr>\n",
              "    <tr>\n",
              "      <th>freq</th>\n",
              "      <td>1081</td>\n",
              "      <td>28832</td>\n",
              "      <td>369</td>\n",
              "    </tr>\n",
              "  </tbody>\n",
              "</table>\n",
              "</div>\n",
              "      <button class=\"colab-df-convert\" onclick=\"convertToInteractive('df-bf17b061-ccb8-4203-a838-8aabfb5ec1f8')\"\n",
              "              title=\"Convert this dataframe to an interactive table.\"\n",
              "              style=\"display:none;\">\n",
              "        \n",
              "  <svg xmlns=\"http://www.w3.org/2000/svg\" height=\"24px\"viewBox=\"0 0 24 24\"\n",
              "       width=\"24px\">\n",
              "    <path d=\"M0 0h24v24H0V0z\" fill=\"none\"/>\n",
              "    <path d=\"M18.56 5.44l.94 2.06.94-2.06 2.06-.94-2.06-.94-.94-2.06-.94 2.06-2.06.94zm-11 1L8.5 8.5l.94-2.06 2.06-.94-2.06-.94L8.5 2.5l-.94 2.06-2.06.94zm10 10l.94 2.06.94-2.06 2.06-.94-2.06-.94-.94-2.06-.94 2.06-2.06.94z\"/><path d=\"M17.41 7.96l-1.37-1.37c-.4-.4-.92-.59-1.43-.59-.52 0-1.04.2-1.43.59L10.3 9.45l-7.72 7.72c-.78.78-.78 2.05 0 2.83L4 21.41c.39.39.9.59 1.41.59.51 0 1.02-.2 1.41-.59l7.78-7.78 2.81-2.81c.8-.78.8-2.07 0-2.86zM5.41 20L4 18.59l7.72-7.72 1.47 1.35L5.41 20z\"/>\n",
              "  </svg>\n",
              "      </button>\n",
              "      \n",
              "  <style>\n",
              "    .colab-df-container {\n",
              "      display:flex;\n",
              "      flex-wrap:wrap;\n",
              "      gap: 12px;\n",
              "    }\n",
              "\n",
              "    .colab-df-convert {\n",
              "      background-color: #E8F0FE;\n",
              "      border: none;\n",
              "      border-radius: 50%;\n",
              "      cursor: pointer;\n",
              "      display: none;\n",
              "      fill: #1967D2;\n",
              "      height: 32px;\n",
              "      padding: 0 0 0 0;\n",
              "      width: 32px;\n",
              "    }\n",
              "\n",
              "    .colab-df-convert:hover {\n",
              "      background-color: #E2EBFA;\n",
              "      box-shadow: 0px 1px 2px rgba(60, 64, 67, 0.3), 0px 1px 3px 1px rgba(60, 64, 67, 0.15);\n",
              "      fill: #174EA6;\n",
              "    }\n",
              "\n",
              "    [theme=dark] .colab-df-convert {\n",
              "      background-color: #3B4455;\n",
              "      fill: #D2E3FC;\n",
              "    }\n",
              "\n",
              "    [theme=dark] .colab-df-convert:hover {\n",
              "      background-color: #434B5C;\n",
              "      box-shadow: 0px 1px 3px 1px rgba(0, 0, 0, 0.15);\n",
              "      filter: drop-shadow(0px 1px 2px rgba(0, 0, 0, 0.3));\n",
              "      fill: #FFFFFF;\n",
              "    }\n",
              "  </style>\n",
              "\n",
              "      <script>\n",
              "        const buttonEl =\n",
              "          document.querySelector('#df-bf17b061-ccb8-4203-a838-8aabfb5ec1f8 button.colab-df-convert');\n",
              "        buttonEl.style.display =\n",
              "          google.colab.kernel.accessAllowed ? 'block' : 'none';\n",
              "\n",
              "        async function convertToInteractive(key) {\n",
              "          const element = document.querySelector('#df-bf17b061-ccb8-4203-a838-8aabfb5ec1f8');\n",
              "          const dataTable =\n",
              "            await google.colab.kernel.invokeFunction('convertToInteractive',\n",
              "                                                     [key], {});\n",
              "          if (!dataTable) return;\n",
              "\n",
              "          const docLinkHtml = 'Like what you see? Visit the ' +\n",
              "            '<a target=\"_blank\" href=https://colab.research.google.com/notebooks/data_table.ipynb>data table notebook</a>'\n",
              "            + ' to learn more about interactive tables.';\n",
              "          element.innerHTML = '';\n",
              "          dataTable['output_type'] = 'display_data';\n",
              "          await google.colab.output.renderOutput(dataTable, element);\n",
              "          const docLink = document.createElement('div');\n",
              "          docLink.innerHTML = docLinkHtml;\n",
              "          element.appendChild(docLink);\n",
              "        }\n",
              "      </script>\n",
              "    </div>\n",
              "  </div>\n",
              "  "
            ],
            "text/plain": [
              "                                                     tags recommended   text\n",
              "count                                               43914       43914  43914\n",
              "unique                                                 79           2  38943\n",
              "top     Sports,Football,Controller,PvP,Realistic,Immer...        True   good\n",
              "freq                                                 1081       28832    369"
            ]
          },
          "execution_count": 20,
          "metadata": {},
          "output_type": "execute_result"
        }
      ],
      "source": [
        "df3 = df3[df3.text.map(lambda x: x.isascii())]\n",
        "df3.describe()"
      ]
    },
    {
      "cell_type": "code",
      "execution_count": 21,
      "metadata": {
        "colab": {
          "base_uri": "https://localhost:8080/",
          "height": 346
        },
        "id": "LOd3JtNOap-w",
        "outputId": "f9000f22-30b5-42ed-beb5-5437fe2c241b"
      },
      "outputs": [
        {
          "name": "stderr",
          "output_type": "stream",
          "text": [
            "/usr/local/lib/python3.7/dist-packages/ipykernel_launcher.py:2: SettingWithCopyWarning: \n",
            "A value is trying to be set on a copy of a slice from a DataFrame.\n",
            "Try using .loc[row_indexer,col_indexer] = value instead\n",
            "\n",
            "See the caveats in the documentation: https://pandas.pydata.org/pandas-docs/stable/user_guide/indexing.html#returning-a-view-versus-a-copy\n",
            "  \n"
          ]
        },
        {
          "data": {
            "text/plain": [
              "<Figure size 1080x432 with 0 Axes>"
            ]
          },
          "metadata": {},
          "output_type": "display_data"
        },
        {
          "data": {
            "image/png": "[encoded data removed]",
            "text/plain": [
              "<Figure size 432x216 with 2 Axes>"
            ]
          },
          "metadata": {
            "needs_background": "light"
          },
          "output_type": "display_data"
        }
      ],
      "source": [
        "import seaborn as sns\n",
        "df3['length_review']=df3['text'].apply(len)\n",
        "plt.figure(figsize=(15,6))\n",
        "g = sns.FacetGrid(df3,col='recommended')\n",
        "g.map(plt.hist,'length_review')\n",
        "plt.show()"
      ]
    },
    {
      "cell_type": "code",
      "execution_count": 22,
      "metadata": {
        "colab": {
          "base_uri": "https://localhost:8080/",
          "height": 458
        },
        "id": "FwKB1P4VKOvx",
        "outputId": "e88fa143-981b-4421-af38-090331d654d4"
      },
      "outputs": [
        {
          "name": "stdout",
          "output_type": "stream",
          "text": [
            "Number of negative samples: 15082\n",
            "Number of positive samples: 16145\n"
          ]
        },
        {
          "data": {
            "text/html": [
              "\n",
              "  <div id=\"df-a4e4906c-1576-4507-9dee-ee9b1cec6e8d\">\n",
              "    <div class=\"colab-df-container\">\n",
              "      <div>\n",
              "<style scoped>\n",
              "    .dataframe tbody tr th:only-of-type {\n",
              "        vertical-align: middle;\n",
              "    }\n",
              "\n",
              "    .dataframe tbody tr th {\n",
              "        vertical-align: top;\n",
              "    }\n",
              "\n",
              "    .dataframe thead th {\n",
              "        text-align: right;\n",
              "    }\n",
              "</style>\n",
              "<table border=\"1\" class=\"dataframe\">\n",
              "  <thead>\n",
              "    <tr style=\"text-align: right;\">\n",
              "      <th></th>\n",
              "      <th>tags</th>\n",
              "      <th>label</th>\n",
              "      <th>recommended</th>\n",
              "      <th>text</th>\n",
              "      <th>length_review</th>\n",
              "    </tr>\n",
              "  </thead>\n",
              "  <tbody>\n",
              "    <tr>\n",
              "      <th>0</th>\n",
              "      <td>Action,RPG,Anime,Sports,Casual,Soccer,Multipla...</td>\n",
              "      <td>1</td>\n",
              "      <td>True</td>\n",
              "      <td>Made for Tsubasa fans.\\nBetter than anime itself.</td>\n",
              "      <td>48</td>\n",
              "    </tr>\n",
              "    <tr>\n",
              "      <th>1</th>\n",
              "      <td>Automobile Sim,Simulation,Driving,Realistic,Si...</td>\n",
              "      <td>1</td>\n",
              "      <td>True</td>\n",
              "      <td>This won't be a professional review i must say...</td>\n",
              "      <td>2448</td>\n",
              "    </tr>\n",
              "    <tr>\n",
              "      <th>2</th>\n",
              "      <td>Strategy,Simulation,Base Building,Villain Prot...</td>\n",
              "      <td>1</td>\n",
              "      <td>True</td>\n",
              "      <td>Totally lived up to the hype and expectations....</td>\n",
              "      <td>64</td>\n",
              "    </tr>\n",
              "    <tr>\n",
              "      <th>3</th>\n",
              "      <td>Massively Multiplayer,Open World,MMORPG,Advent...</td>\n",
              "      <td>1</td>\n",
              "      <td>True</td>\n",
              "      <td>Nice game. It gives me the same feeling I got ...</td>\n",
              "      <td>253</td>\n",
              "    </tr>\n",
              "    <tr>\n",
              "      <th>4</th>\n",
              "      <td>Action,Adventure,Multiplayer,Third-Person Shoo...</td>\n",
              "      <td>1</td>\n",
              "      <td>True</td>\n",
              "      <td>TOp game</td>\n",
              "      <td>8</td>\n",
              "    </tr>\n",
              "    <tr>\n",
              "      <th>...</th>\n",
              "      <td>...</td>\n",
              "      <td>...</td>\n",
              "      <td>...</td>\n",
              "      <td>...</td>\n",
              "      <td>...</td>\n",
              "    </tr>\n",
              "    <tr>\n",
              "      <th>31222</th>\n",
              "      <td>JRPG,RPG,Singleplayer,Great Soundtrack,Story R...</td>\n",
              "      <td>0</td>\n",
              "      <td>False</td>\n",
              "      <td>Honestly I think the only real thing I have is...</td>\n",
              "      <td>380</td>\n",
              "    </tr>\n",
              "    <tr>\n",
              "      <th>31223</th>\n",
              "      <td>JRPG,RPG,Singleplayer,Great Soundtrack,Story R...</td>\n",
              "      <td>0</td>\n",
              "      <td>False</td>\n",
              "      <td>It makes me sad, because this was one of my fa...</td>\n",
              "      <td>1690</td>\n",
              "    </tr>\n",
              "    <tr>\n",
              "      <th>31224</th>\n",
              "      <td>JRPG,RPG,Singleplayer,Great Soundtrack,Story R...</td>\n",
              "      <td>0</td>\n",
              "      <td>False</td>\n",
              "      <td>The game crashes. A lot.</td>\n",
              "      <td>24</td>\n",
              "    </tr>\n",
              "    <tr>\n",
              "      <th>31225</th>\n",
              "      <td>JRPG,RPG,Singleplayer,Great Soundtrack,Story R...</td>\n",
              "      <td>0</td>\n",
              "      <td>False</td>\n",
              "      <td>Long time SE fan here. I've owned just about e...</td>\n",
              "      <td>3041</td>\n",
              "    </tr>\n",
              "    <tr>\n",
              "      <th>31226</th>\n",
              "      <td>JRPG,RPG,Singleplayer,Great Soundtrack,Story R...</td>\n",
              "      <td>0</td>\n",
              "      <td>False</td>\n",
              "      <td>One of the few games I requested a refund for....</td>\n",
              "      <td>94</td>\n",
              "    </tr>\n",
              "  </tbody>\n",
              "</table>\n",
              "<p>31227 rows × 5 columns</p>\n",
              "</div>\n",
              "      <button class=\"colab-df-convert\" onclick=\"convertToInteractive('df-a4e4906c-1576-4507-9dee-ee9b1cec6e8d')\"\n",
              "              title=\"Convert this dataframe to an interactive table.\"\n",
              "              style=\"display:none;\">\n",
              "        \n",
              "  <svg xmlns=\"http://www.w3.org/2000/svg\" height=\"24px\"viewBox=\"0 0 24 24\"\n",
              "       width=\"24px\">\n",
              "    <path d=\"M0 0h24v24H0V0z\" fill=\"none\"/>\n",
              "    <path d=\"M18.56 5.44l.94 2.06.94-2.06 2.06-.94-2.06-.94-.94-2.06-.94 2.06-2.06.94zm-11 1L8.5 8.5l.94-2.06 2.06-.94-2.06-.94L8.5 2.5l-.94 2.06-2.06.94zm10 10l.94 2.06.94-2.06 2.06-.94-2.06-.94-.94-2.06-.94 2.06-2.06.94z\"/><path d=\"M17.41 7.96l-1.37-1.37c-.4-.4-.92-.59-1.43-.59-.52 0-1.04.2-1.43.59L10.3 9.45l-7.72 7.72c-.78.78-.78 2.05 0 2.83L4 21.41c.39.39.9.59 1.41.59.51 0 1.02-.2 1.41-.59l7.78-7.78 2.81-2.81c.8-.78.8-2.07 0-2.86zM5.41 20L4 18.59l7.72-7.72 1.47 1.35L5.41 20z\"/>\n",
              "  </svg>\n",
              "      </button>\n",
              "      \n",
              "  <style>\n",
              "    .colab-df-container {\n",
              "      display:flex;\n",
              "      flex-wrap:wrap;\n",
              "      gap: 12px;\n",
              "    }\n",
              "\n",
              "    .colab-df-convert {\n",
              "      background-color: #E8F0FE;\n",
              "      border: none;\n",
              "      border-radius: 50%;\n",
              "      cursor: pointer;\n",
              "      display: none;\n",
              "      fill: #1967D2;\n",
              "      height: 32px;\n",
              "      padding: 0 0 0 0;\n",
              "      width: 32px;\n",
              "    }\n",
              "\n",
              "    .colab-df-convert:hover {\n",
              "      background-color: #E2EBFA;\n",
              "      box-shadow: 0px 1px 2px rgba(60, 64, 67, 0.3), 0px 1px 3px 1px rgba(60, 64, 67, 0.15);\n",
              "      fill: #174EA6;\n",
              "    }\n",
              "\n",
              "    [theme=dark] .colab-df-convert {\n",
              "      background-color: #3B4455;\n",
              "      fill: #D2E3FC;\n",
              "    }\n",
              "\n",
              "    [theme=dark] .colab-df-convert:hover {\n",
              "      background-color: #434B5C;\n",
              "      box-shadow: 0px 1px 3px 1px rgba(0, 0, 0, 0.15);\n",
              "      filter: drop-shadow(0px 1px 2px rgba(0, 0, 0, 0.3));\n",
              "      fill: #FFFFFF;\n",
              "    }\n",
              "  </style>\n",
              "\n",
              "      <script>\n",
              "        const buttonEl =\n",
              "          document.querySelector('#df-a4e4906c-1576-4507-9dee-ee9b1cec6e8d button.colab-df-convert');\n",
              "        buttonEl.style.display =\n",
              "          google.colab.kernel.accessAllowed ? 'block' : 'none';\n",
              "\n",
              "        async function convertToInteractive(key) {\n",
              "          const element = document.querySelector('#df-a4e4906c-1576-4507-9dee-ee9b1cec6e8d');\n",
              "          const dataTable =\n",
              "            await google.colab.kernel.invokeFunction('convertToInteractive',\n",
              "                                                     [key], {});\n",
              "          if (!dataTable) return;\n",
              "\n",
              "          const docLinkHtml = 'Like what you see? Visit the ' +\n",
              "            '<a target=\"_blank\" href=https://colab.research.google.com/notebooks/data_table.ipynb>data table notebook</a>'\n",
              "            + ' to learn more about interactive tables.';\n",
              "          element.innerHTML = '';\n",
              "          dataTable['output_type'] = 'display_data';\n",
              "          await google.colab.output.renderOutput(dataTable, element);\n",
              "          const docLink = document.createElement('div');\n",
              "          docLink.innerHTML = docLinkHtml;\n",
              "          element.appendChild(docLink);\n",
              "        }\n",
              "      </script>\n",
              "    </div>\n",
              "  </div>\n",
              "  "
            ],
            "text/plain": [
              "                                                    tags  ...  length_review\n",
              "0      Action,RPG,Anime,Sports,Casual,Soccer,Multipla...  ...             48\n",
              "1      Automobile Sim,Simulation,Driving,Realistic,Si...  ...           2448\n",
              "2      Strategy,Simulation,Base Building,Villain Prot...  ...             64\n",
              "3      Massively Multiplayer,Open World,MMORPG,Advent...  ...            253\n",
              "4      Action,Adventure,Multiplayer,Third-Person Shoo...  ...              8\n",
              "...                                                  ...  ...            ...\n",
              "31222  JRPG,RPG,Singleplayer,Great Soundtrack,Story R...  ...            380\n",
              "31223  JRPG,RPG,Singleplayer,Great Soundtrack,Story R...  ...           1690\n",
              "31224  JRPG,RPG,Singleplayer,Great Soundtrack,Story R...  ...             24\n",
              "31225  JRPG,RPG,Singleplayer,Great Soundtrack,Story R...  ...           3041\n",
              "31226  JRPG,RPG,Singleplayer,Great Soundtrack,Story R...  ...             94\n",
              "\n",
              "[31227 rows x 5 columns]"
            ]
          },
          "execution_count": 22,
          "metadata": {},
          "output_type": "execute_result"
        }
      ],
      "source": [
        "from sklearn.model_selection import train_test_split\n",
        "normal_df = df3[df3['recommended'] == 0]\n",
        "class_df = df3[df3['recommended'] == 1]\n",
        "\n",
        "label = np.ones(len(class_df), dtype = int)\n",
        "class_df.insert(1, 'label', label)\n",
        "\n",
        "label = np.zeros(len(normal_df), dtype = int)\n",
        "normal_df.insert(1, 'label', label)\n",
        "\n",
        "class_df, _ = train_test_split(class_df, train_size = 0.56)\n",
        "df3 = pd.concat([class_df, normal_df], ignore_index=True)\n",
        "print(\"Number of negative samples:\", len(df3[df3['label'] == 0]))\n",
        "print(\"Number of positive samples:\", len(df3[df3['label'] == 1]))\n",
        "df3"
      ]
    },
    {
      "cell_type": "code",
      "execution_count": 23,
      "metadata": {
        "colab": {
          "base_uri": "https://localhost:8080/",
          "height": 242
        },
        "id": "ul2_DzbYKn1Y",
        "outputId": "32c33703-5aca-477c-ad8d-77c956946a1c"
      },
      "outputs": [
        {
          "data": {
            "text/plain": [
              "<Figure size 1080x432 with 0 Axes>"
            ]
          },
          "metadata": {},
          "output_type": "display_data"
        },
        {
          "data": {
            "image/png": "[encoded data removed]",
            "text/plain": [
              "<Figure size 432x216 with 2 Axes>"
            ]
          },
          "metadata": {
            "needs_background": "light"
          },
          "output_type": "display_data"
        }
      ],
      "source": [
        "df3['length_review']=df3['text'].apply(len)\n",
        "plt.figure(figsize=(15,6))\n",
        "g = sns.FacetGrid(df3,col='recommended')\n",
        "g.map(plt.hist,'length_review')\n",
        "plt.show()"
      ]
    },
    {
      "cell_type": "code",
      "execution_count": 24,
      "metadata": {
        "colab": {
          "base_uri": "https://localhost:8080/",
          "height": 423
        },
        "id": "tVFlDI7_LDB3",
        "outputId": "d34615b9-00c8-4063-ee90-32ff28ef4186"
      },
      "outputs": [
        {
          "data": {
            "text/html": [
              "\n",
              "  <div id=\"df-0a213da2-ea39-44fe-9534-3eeefd9505a1\">\n",
              "    <div class=\"colab-df-container\">\n",
              "      <div>\n",
              "<style scoped>\n",
              "    .dataframe tbody tr th:only-of-type {\n",
              "        vertical-align: middle;\n",
              "    }\n",
              "\n",
              "    .dataframe tbody tr th {\n",
              "        vertical-align: top;\n",
              "    }\n",
              "\n",
              "    .dataframe thead th {\n",
              "        text-align: right;\n",
              "    }\n",
              "</style>\n",
              "<table border=\"1\" class=\"dataframe\">\n",
              "  <thead>\n",
              "    <tr style=\"text-align: right;\">\n",
              "      <th></th>\n",
              "      <th>tags</th>\n",
              "      <th>label</th>\n",
              "      <th>recommended</th>\n",
              "      <th>text</th>\n",
              "      <th>length_review</th>\n",
              "    </tr>\n",
              "  </thead>\n",
              "  <tbody>\n",
              "    <tr>\n",
              "      <th>0</th>\n",
              "      <td>Action,RPG,Anime,Sports,Casual,Soccer,Multipla...</td>\n",
              "      <td>1</td>\n",
              "      <td>True</td>\n",
              "      <td>Made for Tsubasa fans.\\nBetter than anime itself.</td>\n",
              "      <td>48</td>\n",
              "    </tr>\n",
              "    <tr>\n",
              "      <th>1</th>\n",
              "      <td>Automobile Sim,Simulation,Driving,Realistic,Si...</td>\n",
              "      <td>1</td>\n",
              "      <td>True</td>\n",
              "      <td>This won't be a professional review i must say...</td>\n",
              "      <td>2448</td>\n",
              "    </tr>\n",
              "    <tr>\n",
              "      <th>2</th>\n",
              "      <td>Strategy,Simulation,Base Building,Villain Prot...</td>\n",
              "      <td>1</td>\n",
              "      <td>True</td>\n",
              "      <td>Totally lived up to the hype and expectations....</td>\n",
              "      <td>64</td>\n",
              "    </tr>\n",
              "    <tr>\n",
              "      <th>3</th>\n",
              "      <td>Massively Multiplayer,Open World,MMORPG,Advent...</td>\n",
              "      <td>1</td>\n",
              "      <td>True</td>\n",
              "      <td>Nice game. It gives me the same feeling I got ...</td>\n",
              "      <td>253</td>\n",
              "    </tr>\n",
              "    <tr>\n",
              "      <th>4</th>\n",
              "      <td>Action,Adventure,Multiplayer,Third-Person Shoo...</td>\n",
              "      <td>1</td>\n",
              "      <td>True</td>\n",
              "      <td>TOp game</td>\n",
              "      <td>8</td>\n",
              "    </tr>\n",
              "    <tr>\n",
              "      <th>...</th>\n",
              "      <td>...</td>\n",
              "      <td>...</td>\n",
              "      <td>...</td>\n",
              "      <td>...</td>\n",
              "      <td>...</td>\n",
              "    </tr>\n",
              "    <tr>\n",
              "      <th>31222</th>\n",
              "      <td>JRPG,RPG,Singleplayer,Great Soundtrack,Story R...</td>\n",
              "      <td>0</td>\n",
              "      <td>False</td>\n",
              "      <td>Honestly I think the only real thing I have is...</td>\n",
              "      <td>380</td>\n",
              "    </tr>\n",
              "    <tr>\n",
              "      <th>31223</th>\n",
              "      <td>JRPG,RPG,Singleplayer,Great Soundtrack,Story R...</td>\n",
              "      <td>0</td>\n",
              "      <td>False</td>\n",
              "      <td>It makes me sad, because this was one of my fa...</td>\n",
              "      <td>1690</td>\n",
              "    </tr>\n",
              "    <tr>\n",
              "      <th>31224</th>\n",
              "      <td>JRPG,RPG,Singleplayer,Great Soundtrack,Story R...</td>\n",
              "      <td>0</td>\n",
              "      <td>False</td>\n",
              "      <td>The game crashes. A lot.</td>\n",
              "      <td>24</td>\n",
              "    </tr>\n",
              "    <tr>\n",
              "      <th>31225</th>\n",
              "      <td>JRPG,RPG,Singleplayer,Great Soundtrack,Story R...</td>\n",
              "      <td>0</td>\n",
              "      <td>False</td>\n",
              "      <td>Long time SE fan here. I've owned just about e...</td>\n",
              "      <td>3041</td>\n",
              "    </tr>\n",
              "    <tr>\n",
              "      <th>31226</th>\n",
              "      <td>JRPG,RPG,Singleplayer,Great Soundtrack,Story R...</td>\n",
              "      <td>0</td>\n",
              "      <td>False</td>\n",
              "      <td>One of the few games I requested a refund for....</td>\n",
              "      <td>94</td>\n",
              "    </tr>\n",
              "  </tbody>\n",
              "</table>\n",
              "<p>31227 rows × 5 columns</p>\n",
              "</div>\n",
              "      <button class=\"colab-df-convert\" onclick=\"convertToInteractive('df-0a213da2-ea39-44fe-9534-3eeefd9505a1')\"\n",
              "              title=\"Convert this dataframe to an interactive table.\"\n",
              "              style=\"display:none;\">\n",
              "        \n",
              "  <svg xmlns=\"http://www.w3.org/2000/svg\" height=\"24px\"viewBox=\"0 0 24 24\"\n",
              "       width=\"24px\">\n",
              "    <path d=\"M0 0h24v24H0V0z\" fill=\"none\"/>\n",
              "    <path d=\"M18.56 5.44l.94 2.06.94-2.06 2.06-.94-2.06-.94-.94-2.06-.94 2.06-2.06.94zm-11 1L8.5 8.5l.94-2.06 2.06-.94-2.06-.94L8.5 2.5l-.94 2.06-2.06.94zm10 10l.94 2.06.94-2.06 2.06-.94-2.06-.94-.94-2.06-.94 2.06-2.06.94z\"/><path d=\"M17.41 7.96l-1.37-1.37c-.4-.4-.92-.59-1.43-.59-.52 0-1.04.2-1.43.59L10.3 9.45l-7.72 7.72c-.78.78-.78 2.05 0 2.83L4 21.41c.39.39.9.59 1.41.59.51 0 1.02-.2 1.41-.59l7.78-7.78 2.81-2.81c.8-.78.8-2.07 0-2.86zM5.41 20L4 18.59l7.72-7.72 1.47 1.35L5.41 20z\"/>\n",
              "  </svg>\n",
              "      </button>\n",
              "      \n",
              "  <style>\n",
              "    .colab-df-container {\n",
              "      display:flex;\n",
              "      flex-wrap:wrap;\n",
              "      gap: 12px;\n",
              "    }\n",
              "\n",
              "    .colab-df-convert {\n",
              "      background-color: #E8F0FE;\n",
              "      border: none;\n",
              "      border-radius: 50%;\n",
              "      cursor: pointer;\n",
              "      display: none;\n",
              "      fill: #1967D2;\n",
              "      height: 32px;\n",
              "      padding: 0 0 0 0;\n",
              "      width: 32px;\n",
              "    }\n",
              "\n",
              "    .colab-df-convert:hover {\n",
              "      background-color: #E2EBFA;\n",
              "      box-shadow: 0px 1px 2px rgba(60, 64, 67, 0.3), 0px 1px 3px 1px rgba(60, 64, 67, 0.15);\n",
              "      fill: #174EA6;\n",
              "    }\n",
              "\n",
              "    [theme=dark] .colab-df-convert {\n",
              "      background-color: #3B4455;\n",
              "      fill: #D2E3FC;\n",
              "    }\n",
              "\n",
              "    [theme=dark] .colab-df-convert:hover {\n",
              "      background-color: #434B5C;\n",
              "      box-shadow: 0px 1px 3px 1px rgba(0, 0, 0, 0.15);\n",
              "      filter: drop-shadow(0px 1px 2px rgba(0, 0, 0, 0.3));\n",
              "      fill: #FFFFFF;\n",
              "    }\n",
              "  </style>\n",
              "\n",
              "      <script>\n",
              "        const buttonEl =\n",
              "          document.querySelector('#df-0a213da2-ea39-44fe-9534-3eeefd9505a1 button.colab-df-convert');\n",
              "        buttonEl.style.display =\n",
              "          google.colab.kernel.accessAllowed ? 'block' : 'none';\n",
              "\n",
              "        async function convertToInteractive(key) {\n",
              "          const element = document.querySelector('#df-0a213da2-ea39-44fe-9534-3eeefd9505a1');\n",
              "          const dataTable =\n",
              "            await google.colab.kernel.invokeFunction('convertToInteractive',\n",
              "                                                     [key], {});\n",
              "          if (!dataTable) return;\n",
              "\n",
              "          const docLinkHtml = 'Like what you see? Visit the ' +\n",
              "            '<a target=\"_blank\" href=https://colab.research.google.com/notebooks/data_table.ipynb>data table notebook</a>'\n",
              "            + ' to learn more about interactive tables.';\n",
              "          element.innerHTML = '';\n",
              "          dataTable['output_type'] = 'display_data';\n",
              "          await google.colab.output.renderOutput(dataTable, element);\n",
              "          const docLink = document.createElement('div');\n",
              "          docLink.innerHTML = docLinkHtml;\n",
              "          element.appendChild(docLink);\n",
              "        }\n",
              "      </script>\n",
              "    </div>\n",
              "  </div>\n",
              "  "
            ],
            "text/plain": [
              "                                                    tags  ...  length_review\n",
              "0      Action,RPG,Anime,Sports,Casual,Soccer,Multipla...  ...             48\n",
              "1      Automobile Sim,Simulation,Driving,Realistic,Si...  ...           2448\n",
              "2      Strategy,Simulation,Base Building,Villain Prot...  ...             64\n",
              "3      Massively Multiplayer,Open World,MMORPG,Advent...  ...            253\n",
              "4      Action,Adventure,Multiplayer,Third-Person Shoo...  ...              8\n",
              "...                                                  ...  ...            ...\n",
              "31222  JRPG,RPG,Singleplayer,Great Soundtrack,Story R...  ...            380\n",
              "31223  JRPG,RPG,Singleplayer,Great Soundtrack,Story R...  ...           1690\n",
              "31224  JRPG,RPG,Singleplayer,Great Soundtrack,Story R...  ...             24\n",
              "31225  JRPG,RPG,Singleplayer,Great Soundtrack,Story R...  ...           3041\n",
              "31226  JRPG,RPG,Singleplayer,Great Soundtrack,Story R...  ...             94\n",
              "\n",
              "[31227 rows x 5 columns]"
            ]
          },
          "execution_count": 24,
          "metadata": {},
          "output_type": "execute_result"
        }
      ],
      "source": [
        "df3"
      ]
    },
    {
      "cell_type": "code",
      "execution_count": 25,
      "metadata": {
        "id": "gSDyXThqkyeR"
      },
      "outputs": [],
      "source": [
        "df3 = df3[df3['length_review']<2000]\n",
        "df3 = df3.drop(['length_review'], axis = 1)"
      ]
    },
    {
      "cell_type": "code",
      "execution_count": 26,
      "metadata": {
        "colab": {
          "base_uri": "https://localhost:8080/"
        },
        "id": "99_09sVJVnSq",
        "outputId": "9e5aa3da-8536-40b6-d667-8fdcb7d9e61a"
      },
      "outputs": [
        {
          "name": "stdout",
          "output_type": "stream",
          "text": [
            "[[ 11  58  21 ...   0   0   0]\n",
            " [138  39  22 ...   0   0   0]\n",
            " [ 21  18  11 ...   0   0   0]\n",
            " ...\n",
            " [ 22  35  25 ...   0   0   0]\n",
            " [ 22 189  22 ...   0   0   0]\n",
            " [ 22  35  25 ...   0   0   0]]\n",
            "[0 1 0 ... 1 1 0]\n"
          ]
        }
      ],
      "source": [
        "from tensorflow.keras.preprocessing.text import Tokenizer\n",
        "from tensorflow.keras.preprocessing.sequence import pad_sequences\n",
        "from sklearn.preprocessing import LabelEncoder\n",
        "\n",
        "X = df3.drop(['recommended'], axis=1)\n",
        "y = df3['recommended']\n",
        "\n",
        "encoder = LabelEncoder()\n",
        "y = encoder.fit_transform(y)\n",
        "\n",
        "\n",
        "X_train, X_test, y_train, y_test = train_test_split(X, y, test_size=0.3, shuffle=True)\n",
        "\n",
        "\n",
        "\n",
        "tokenizer = Tokenizer(num_words = 30000, oov_token=\"<OOV>\")\n",
        "tokenizer.fit_on_texts(X_train['text'])\n",
        "tokenizer.fit_on_texts(X_train['tags'])\n",
        "word_index = tokenizer.word_index\n",
        "\n",
        "# df3['text'] = df3[['text','tags']].apply(lambda x: ','.join(x.dropna().astype(str)),axis=1)\n",
        "\n",
        "sequences = tokenizer.texts_to_sequences(X_train['tags'])\n",
        "tags = pad_sequences(sequences, padding='post', maxlen=35)\n",
        "\n",
        "\n",
        "sequences = tokenizer.texts_to_sequences(X_train['text'])\n",
        "reviews = pad_sequences(sequences, padding='post', maxlen=411)\n",
        "\n",
        "X_train_tf = np.append(tags, reviews, axis=1)\n",
        "X_train_tf2 = reviews\n",
        "\n",
        "sequences = tokenizer.texts_to_sequences(X_test['tags'])\n",
        "tags = pad_sequences(sequences, padding='post', maxlen=35)\n",
        "\n",
        "\n",
        "sequences = tokenizer.texts_to_sequences(X_test['text'])\n",
        "reviews = pad_sequences(sequences, padding='post', maxlen=411)\n",
        "\n",
        "X_test_tf = np.append(tags, reviews, axis=1)\n",
        "X_test_tf2 = reviews\n",
        "\n",
        "\n",
        "\n",
        "\n",
        "\n",
        "print(X_train_tf)\n",
        "print(y_train)\n",
        "# print(X_test)\n",
        "# print(y_test)"
      ]
    },
    {
      "cell_type": "code",
      "execution_count": 27,
      "metadata": {
        "colab": {
          "base_uri": "https://localhost:8080/",
          "height": 825
        },
        "id": "jOe-BalxnKL3",
        "outputId": "6dcce117-d11d-4fe9-fee2-464dd9194d0d"
      },
      "outputs": [
        {
          "data": {
            "image/png": "[encoded data removed]",
            "text/plain": [
              "<Figure size 360x360 with 2 Axes>"
            ]
          },
          "metadata": {
            "needs_background": "light"
          },
          "output_type": "display_data"
        },
        {
          "data": {
            "image/png": "[encoded data removed]",
            "text/plain": [
              "<Figure size 360x360 with 2 Axes>"
            ]
          },
          "metadata": {
            "needs_background": "light"
          },
          "output_type": "display_data"
        },
        {
          "name": "stdout",
          "output_type": "stream",
          "text": [
            "+---------------+-------------------+---------------------+--------------------+--------------------+--------------------+\n",
            "|     Model     |        data       | Sensitivity(Recall) |     Precision      |      Accuracy      |      f1 score      |\n",
            "+---------------+-------------------+---------------------+--------------------+--------------------+--------------------+\n",
            "| MultinomialNB |   With game tags  |  0.5757605148980699 | 0.5871851131120305 | 0.5832235397452789 | 0.5653290849347804 |\n",
            "| MultinomialNB | Without game tags |  0.5738370084533428 | 0.5820751900691551 | 0.580368906455863  | 0.5662366860932476 |\n",
            "+---------------+-------------------+---------------------+--------------------+--------------------+--------------------+\n"
          ]
        }
      ],
      "source": [
        "from sklearn.metrics import accuracy_score, recall_score, precision_score, confusion_matrix, f1_score\n",
        "import prettytable as pt\n",
        "import seaborn as sns\n",
        "from sklearn.naive_bayes import MultinomialNB\n",
        "\n",
        "\n",
        "mnb = MultinomialNB()\n",
        "mnb.fit(X_train_tf, y_train)\n",
        "y_pred = mnb.predict(X_test_tf)\n",
        "\n",
        "\n",
        "cm = confusion_matrix(y_test, y_pred)\n",
        "f1 = f1_score(y_test, y_pred, average='macro')\n",
        "accuracy = accuracy_score(y_test, y_pred)\n",
        "recall = recall_score(y_test, y_pred, average='macro')\n",
        "precision = precision_score(y_test, y_pred, average='macro')\n",
        "\n",
        "f, ax = plt.subplots(figsize =(5,5))\n",
        "sns.heatmap(cm,annot = True,linewidths=0.5,linecolor=\"red\",fmt = \".0f\",ax=ax)\n",
        "plt.xlabel(\"y_pred\")\n",
        "plt.ylabel(\"y_true\")\n",
        "plt.title(\"MultinomialNB with game tags\")\n",
        "plt.tight_layout()\n",
        "plt.show()\n",
        "\n",
        "tb1 = pt.PrettyTable()\n",
        "tb1.field_names = [\"Model\", \"data\", \"Sensitivity(Recall)\", \"Precision\", \"Accuracy\", \"f1 score\"]\n",
        "tb1.add_row(['MultinomialNB', \"With game tags\", recall, precision, accuracy, f1])\n",
        "\n",
        "\n",
        "mnb = MultinomialNB()\n",
        "mnb.fit(X_train_tf2, y_train)\n",
        "y_pred = mnb.predict(X_test_tf2)\n",
        "\n",
        "cm = confusion_matrix(y_test, y_pred)\n",
        "f1 = f1_score(y_test, y_pred, average='macro')\n",
        "accuracy = accuracy_score(y_test, y_pred)\n",
        "recall = recall_score(y_test, y_pred, average='macro')\n",
        "precision = precision_score(y_test, y_pred, average='macro')\n",
        "\n",
        "f, ax = plt.subplots(figsize =(5,5))\n",
        "sns.heatmap(cm,annot = True,linewidths=0.5,linecolor=\"red\",fmt = \".0f\",ax=ax)\n",
        "plt.xlabel(\"y_pred\")\n",
        "plt.ylabel(\"y_true\")\n",
        "plt.title(\"MultinomialNB without game tags\")\n",
        "plt.tight_layout()\n",
        "plt.show()\n",
        "\n",
        "tb1.add_row(['MultinomialNB', \"Without game tags\", recall, precision, accuracy, f1])\n",
        "print(tb1)\n",
        "\n"
      ]
    },
    {
      "cell_type": "code",
      "execution_count": 28,
      "metadata": {
        "colab": {
          "base_uri": "https://localhost:8080/",
          "height": 1000
        },
        "id": "bD82adffNXua",
        "outputId": "2dc588e3-1415-4759-dde2-bdebc0749b57"
      },
      "outputs": [
        {
          "name": "stderr",
          "output_type": "stream",
          "text": [
            "/usr/local/lib/python3.7/dist-packages/sklearn/linear_model/_logistic.py:818: ConvergenceWarning: lbfgs failed to converge (status=1):\n",
            "STOP: TOTAL NO. of ITERATIONS REACHED LIMIT.\n",
            "\n",
            "Increase the number of iterations (max_iter) or scale the data as shown in:\n",
            "    https://scikit-learn.org/stable/modules/preprocessing.html\n",
            "Please also refer to the documentation for alternative solver options:\n",
            "    https://scikit-learn.org/stable/modules/linear_model.html#logistic-regression\n",
            "  extra_warning_msg=_LOGISTIC_SOLVER_CONVERGENCE_MSG,\n"
          ]
        },
        {
          "data": {
            "image/png": "[encoded data removed]",
            "text/plain": [
              "<Figure size 360x360 with 2 Axes>"
            ]
          },
          "metadata": {
            "needs_background": "light"
          },
          "output_type": "display_data"
        },
        {
          "name": "stderr",
          "output_type": "stream",
          "text": [
            "/usr/local/lib/python3.7/dist-packages/sklearn/linear_model/_logistic.py:818: ConvergenceWarning: lbfgs failed to converge (status=1):\n",
            "STOP: TOTAL NO. of ITERATIONS REACHED LIMIT.\n",
            "\n",
            "Increase the number of iterations (max_iter) or scale the data as shown in:\n",
            "    https://scikit-learn.org/stable/modules/preprocessing.html\n",
            "Please also refer to the documentation for alternative solver options:\n",
            "    https://scikit-learn.org/stable/modules/linear_model.html#logistic-regression\n",
            "  extra_warning_msg=_LOGISTIC_SOLVER_CONVERGENCE_MSG,\n"
          ]
        },
        {
          "data": {
            "image/png": "[encoded data removed]",
            "text/plain": [
              "<Figure size 360x360 with 2 Axes>"
            ]
          },
          "metadata": {
            "needs_background": "light"
          },
          "output_type": "display_data"
        },
        {
          "name": "stdout",
          "output_type": "stream",
          "text": [
            "+--------------------+-------------------+---------------------+--------------------+--------------------+--------------------+\n",
            "|       Model        |        data       | Sensitivity(Recall) |     Precision      |      Accuracy      |      f1 score      |\n",
            "+--------------------+-------------------+---------------------+--------------------+--------------------+--------------------+\n",
            "| LogisticRegression |   With game tags  |  0.5992880388832128 | 0.6033038099707071 | 0.6033157663592447 | 0.5973679501516055 |\n",
            "| LogisticRegression | Without game tags |  0.5852923582956058 | 0.5865824240413287 | 0.5824549846288977 | 0.5816601730559976 |\n",
            "+--------------------+-------------------+---------------------+--------------------+--------------------+--------------------+\n"
          ]
        }
      ],
      "source": [
        "from sklearn.linear_model import LogisticRegression\n",
        "lr=LogisticRegression()\n",
        "lr.fit(X_train_tf, y_train)\n",
        "y_pred = lr.predict(X_test_tf)\n",
        "\n",
        "\n",
        "cm = confusion_matrix(y_test, y_pred)\n",
        "f1 = f1_score(y_test, y_pred, average='macro')\n",
        "accuracy = accuracy_score(y_test, y_pred)\n",
        "recall = recall_score(y_test, y_pred, average='macro')\n",
        "precision = precision_score(y_test, y_pred, average='macro')\n",
        "\n",
        "f, ax = plt.subplots(figsize =(5,5))\n",
        "sns.heatmap(cm,annot = True,linewidths=0.5,linecolor=\"red\",fmt = \".0f\",ax=ax)\n",
        "plt.xlabel(\"y_pred\")\n",
        "plt.ylabel(\"y_true\")\n",
        "plt.title(\"LogisticRegression with game tags\")\n",
        "plt.tight_layout()\n",
        "plt.show()\n",
        "\n",
        "tb1 = pt.PrettyTable()\n",
        "tb1.field_names = [\"Model\", \"data\", \"Sensitivity(Recall)\", \"Precision\", \"Accuracy\", \"f1 score\"]\n",
        "tb1.add_row(['LogisticRegression', \"With game tags\", recall, precision, accuracy, f1])\n",
        "\n",
        "\n",
        "lr=LogisticRegression()\n",
        "lr.fit(X_train_tf2, y_train)\n",
        "y_pred = lr.predict(X_test_tf2)\n",
        "\n",
        "cm = confusion_matrix(y_test, y_pred)\n",
        "f1 = f1_score(y_test, y_pred, average='macro')\n",
        "accuracy = accuracy_score(y_test, y_pred)\n",
        "recall = recall_score(y_test, y_pred, average='macro')\n",
        "precision = precision_score(y_test, y_pred, average='macro')\n",
        "\n",
        "f, ax = plt.subplots(figsize =(5,5))\n",
        "sns.heatmap(cm,annot = True,linewidths=0.5,linecolor=\"red\",fmt = \".0f\",ax=ax)\n",
        "plt.xlabel(\"y_pred\")\n",
        "plt.ylabel(\"y_true\")\n",
        "plt.title(\"LogisticRegression without game tags\")\n",
        "plt.tight_layout()\n",
        "plt.show()\n",
        "\n",
        "tb1.add_row(['LogisticRegression', \"Without game tags\", recall, precision, accuracy, f1])\n",
        "print(tb1)"
      ]
    },
    {
      "cell_type": "code",
      "execution_count": 29,
      "metadata": {
        "colab": {
          "base_uri": "https://localhost:8080/"
        },
        "id": "HMqiWkveKhpT",
        "outputId": "08418b8b-668c-4a81-cfd6-0910a9b9393a"
      },
      "outputs": [
        {
          "name": "stdout",
          "output_type": "stream",
          "text": [
            "[[0. 1.]\n",
            " [0. 1.]\n",
            " [1. 0.]\n",
            " ...\n",
            " [0. 1.]\n",
            " [1. 0.]\n",
            " [1. 0.]]\n"
          ]
        }
      ],
      "source": [
        "from tensorflow.keras.utils import to_categorical\n",
        "# y_train = to_categorical(y_train)\n",
        "y_test_transform = to_categorical(y_test)\n",
        "# print(y_train.shape)\n",
        "print(y_test_transform)"
      ]
    },
    {
      "cell_type": "code",
      "execution_count": 30,
      "metadata": {
        "colab": {
          "base_uri": "https://localhost:8080/"
        },
        "id": "4T5DCrWkJQcj",
        "outputId": "117b1fa3-304e-4c9c-8925-ab6d123620d4"
      },
      "outputs": [
        {
          "name": "stdout",
          "output_type": "stream",
          "text": [
            "Compile model ...\n",
            "Model: \"sequential\"\n",
            "_________________________________________________________________\n",
            " Layer (type)                Output Shape              Param #   \n",
            "=================================================================\n",
            " dense (Dense)               (None, 1024)              457728    \n",
            "                                                                 \n",
            " dense_1 (Dense)             (None, 2)                 2050      \n",
            "                                                                 \n",
            "=================================================================\n",
            "Total params: 459,778\n",
            "Trainable params: 459,778\n",
            "Non-trainable params: 0\n",
            "_________________________________________________________________\n"
          ]
        },
        {
          "name": "stderr",
          "output_type": "stream",
          "text": [
            "/usr/local/lib/python3.7/dist-packages/ipykernel_launcher.py:19: DeprecationWarning: KerasClassifier is deprecated, use Sci-Keras (https://github.com/adriangb/scikeras) instead.\n"
          ]
        },
        {
          "name": "stdout",
          "output_type": "stream",
          "text": [
            "Epoch 1/5\n",
            "42/42 [==============================] - 2s 39ms/step - loss: 165.7312 - accuracy: 0.5134 - val_loss: 102.4222 - val_accuracy: 0.5337 - lr: 5.0000e-05\n",
            "Epoch 2/5\n",
            "42/42 [==============================] - 1s 35ms/step - loss: 96.4084 - accuracy: 0.5556 - val_loss: 78.2959 - val_accuracy: 0.5483 - lr: 5.0000e-05\n",
            "Epoch 3/5\n",
            "42/42 [==============================] - 1s 35ms/step - loss: 73.7461 - accuracy: 0.5632 - val_loss: 68.8364 - val_accuracy: 0.5639 - lr: 5.0000e-05\n",
            "Epoch 4/5\n",
            "42/42 [==============================] - 1s 35ms/step - loss: 63.0638 - accuracy: 0.5735 - val_loss: 65.6144 - val_accuracy: 0.5671 - lr: 5.0000e-05\n",
            "Epoch 5/5\n",
            "42/42 [==============================] - 1s 34ms/step - loss: 55.7218 - accuracy: 0.5796 - val_loss: 63.3914 - val_accuracy: 0.5666 - lr: 5.0000e-05\n"
          ]
        },
        {
          "data": {
            "text/plain": [
              "<keras.callbacks.History at 0x7f1dd708bf10>"
            ]
          },
          "execution_count": 30,
          "metadata": {},
          "output_type": "execute_result"
        }
      ],
      "source": [
        "import tensorflow as tf\n",
        "from keras.wrappers.scikit_learn import KerasClassifier\n",
        "from keras.models import Sequential\n",
        "from keras.layers import Dense, Dropout\n",
        "from tensorflow import keras\n",
        "def build_model():\n",
        "    model = Sequential()\n",
        "    model.add(Dense(1024, input_dim=X_train_tf.shape[1], activation='relu'))\n",
        "    model.add(Dense(2, activation='softmax'))\n",
        "    optimizer = keras.optimizers.Adam(learning_rate=5e-5)\n",
        "    model.compile(optimizer=optimizer, loss='categorical_crossentropy', metrics=['accuracy'])\n",
        "    model.summary()\n",
        "    return model\n",
        "\n",
        "\n",
        "\n",
        "print(\"Compile model ...\")\n",
        "callback = tf.keras.callbacks.ReduceLROnPlateau(monitor=\"val_accuracy\", patience=2, verbose=1, factor=0.5, min_lr=5e-5)\n",
        "estimator = KerasClassifier(build_fn=build_model, epochs=5, batch_size=512)\n",
        "estimator.fit(X_train_tf, y_train, validation_data=(X_test_tf, y_test_transform), callbacks=[callback])"
      ]
    },
    {
      "cell_type": "code",
      "execution_count": 31,
      "metadata": {
        "colab": {
          "base_uri": "https://localhost:8080/",
          "height": 456
        },
        "id": "9_bq922BrSNm",
        "outputId": "24526b60-5ac7-4076-eb31-88bc7e212080"
      },
      "outputs": [
        {
          "data": {
            "image/png": "[encoded data removed]",
            "text/plain": [
              "<Figure size 360x360 with 2 Axes>"
            ]
          },
          "metadata": {
            "needs_background": "light"
          },
          "output_type": "display_data"
        },
        {
          "name": "stdout",
          "output_type": "stream",
          "text": [
            "+-------+----------------+---------------------+--------------------+--------------------+--------------------+\n",
            "| Model |      data      | Sensitivity(Recall) |     Precision      |      Accuracy      |      f1 score      |\n",
            "+-------+----------------+---------------------+--------------------+--------------------+--------------------+\n",
            "|  ANN  | With game tags |  0.5649116525983712 | 0.5653101131304745 | 0.5666447079490557 | 0.5647998950172095 |\n",
            "+-------+----------------+---------------------+--------------------+--------------------+--------------------+\n"
          ]
        }
      ],
      "source": [
        "y_pred = estimator.predict(X_test_tf)\n",
        "\n",
        "cm = confusion_matrix(y_test, y_pred)\n",
        "f1 = f1_score(y_test, y_pred, average='macro')\n",
        "accuracy = accuracy_score(y_test, y_pred)\n",
        "recall = recall_score(y_test, y_pred, average='macro')\n",
        "precision = precision_score(y_test, y_pred, average='macro')\n",
        "\n",
        "\n",
        "f, ax = plt.subplots(figsize =(5,5))\n",
        "sns.heatmap(cm,annot = True,linewidths=0.5,linecolor=\"red\",fmt = \".0f\",ax=ax)\n",
        "plt.xlabel(\"y_pred\")\n",
        "plt.ylabel(\"y_true\")\n",
        "plt.title(\"ANN with game tags\")\n",
        "plt.tight_layout()\n",
        "plt.show()\n",
        "\n",
        "tb1 = pt.PrettyTable()\n",
        "tb1.field_names = [\"Model\", \"data\", \"Sensitivity(Recall)\", \"Precision\", \"Accuracy\", \"f1 score\"]\n",
        "tb1.add_row(['ANN', \"With game tags\", recall, precision, accuracy, f1])\n",
        "print(tb1)"
      ]
    },
    {
      "cell_type": "code",
      "execution_count": 32,
      "metadata": {
        "colab": {
          "base_uri": "https://localhost:8080/"
        },
        "id": "jDxY_ytZs7Qo",
        "outputId": "2ec9eec3-306d-4ca8-889d-2dcca791b760"
      },
      "outputs": [
        {
          "name": "stdout",
          "output_type": "stream",
          "text": [
            "Compile model ...\n",
            "Model: \"sequential_1\"\n",
            "_________________________________________________________________\n",
            " Layer (type)                Output Shape              Param #   \n",
            "=================================================================\n",
            " dense_2 (Dense)             (None, 1024)              421888    \n",
            "                                                                 \n",
            " dropout (Dropout)           (None, 1024)              0         \n",
            "                                                                 \n",
            " dense_3 (Dense)             (None, 512)               524800    \n",
            "                                                                 \n",
            " dense_4 (Dense)             (None, 2)                 1026      \n",
            "                                                                 \n",
            "=================================================================\n",
            "Total params: 947,714\n",
            "Trainable params: 947,714\n",
            "Non-trainable params: 0\n",
            "_________________________________________________________________\n",
            "Epoch 1/8\n"
          ]
        },
        {
          "name": "stderr",
          "output_type": "stream",
          "text": [
            "/usr/local/lib/python3.7/dist-packages/ipykernel_launcher.py:16: DeprecationWarning: KerasClassifier is deprecated, use Sci-Keras (https://github.com/adriangb/scikeras) instead.\n",
            "  app.launch_new_instance()\n"
          ]
        },
        {
          "name": "stdout",
          "output_type": "stream",
          "text": [
            "42/42 [==============================] - 4s 79ms/step - loss: 182.2690 - accuracy: 0.5331 - val_loss: 69.9001 - val_accuracy: 0.5487 - lr: 5.0000e-05\n",
            "Epoch 2/8\n",
            "42/42 [==============================] - 3s 74ms/step - loss: 148.2964 - accuracy: 0.5320 - val_loss: 57.7535 - val_accuracy: 0.5526 - lr: 5.0000e-05\n",
            "Epoch 3/8\n",
            "42/42 [==============================] - 3s 75ms/step - loss: 123.6065 - accuracy: 0.5401 - val_loss: 51.4913 - val_accuracy: 0.5583 - lr: 5.0000e-05\n",
            "Epoch 4/8\n",
            "42/42 [==============================] - 3s 74ms/step - loss: 111.0464 - accuracy: 0.5456 - val_loss: 46.9887 - val_accuracy: 0.5585 - lr: 5.0000e-05\n",
            "Epoch 5/8\n",
            "42/42 [==============================] - 3s 73ms/step - loss: 99.1133 - accuracy: 0.5405 - val_loss: 46.9160 - val_accuracy: 0.5572 - lr: 5.0000e-05\n",
            "Epoch 6/8\n",
            "42/42 [==============================] - 3s 74ms/step - loss: 93.8264 - accuracy: 0.5522 - val_loss: 42.2121 - val_accuracy: 0.5620 - lr: 5.0000e-05\n",
            "Epoch 7/8\n",
            "42/42 [==============================] - 3s 75ms/step - loss: 88.0367 - accuracy: 0.5471 - val_loss: 41.2845 - val_accuracy: 0.5657 - lr: 5.0000e-05\n",
            "Epoch 8/8\n",
            "42/42 [==============================] - 3s 74ms/step - loss: 81.2518 - accuracy: 0.5528 - val_loss: 39.0206 - val_accuracy: 0.5659 - lr: 5.0000e-05\n"
          ]
        },
        {
          "data": {
            "text/plain": [
              "<keras.callbacks.History at 0x7f1dd6ec1150>"
            ]
          },
          "execution_count": 32,
          "metadata": {},
          "output_type": "execute_result"
        }
      ],
      "source": [
        "def build_model():\n",
        "    model = Sequential()\n",
        "    model.add(Dense(1024, input_dim=X_train_tf2.shape[1], activation='relu'))\n",
        "    model.add(Dropout(0.5))\n",
        "    model.add(Dense(512, activation='relu'))\n",
        "    model.add(Dense(2, activation='softmax'))\n",
        "    optimizer = keras.optimizers.Adam(learning_rate=5e-5)\n",
        "    model.compile(optimizer=optimizer, loss='categorical_crossentropy', metrics=['accuracy'])\n",
        "    model.summary()\n",
        "    return model\n",
        "\n",
        "\n",
        "\n",
        "print(\"Compile model ...\")\n",
        "callback = tf.keras.callbacks.ReduceLROnPlateau(monitor=\"val_accuracy\", patience=2, verbose=1, factor=0.5, min_lr=5e-5)\n",
        "estimator = KerasClassifier(build_fn=build_model, epochs=8, batch_size=512)\n",
        "estimator.fit(X_train_tf2, y_train, validation_data=(X_test_tf2, y_test_transform), callbacks=[callback])"
      ]
    },
    {
      "cell_type": "code",
      "execution_count": 33,
      "metadata": {
        "colab": {
          "base_uri": "https://localhost:8080/",
          "height": 456
        },
        "id": "IMBbDvLktbSc",
        "outputId": "ae6b379f-d1ca-47ab-90f8-1c28ab38986f"
      },
      "outputs": [
        {
          "data": {
            "image/png": "[encoded data removed]",
            "text/plain": [
              "<Figure size 360x360 with 2 Axes>"
            ]
          },
          "metadata": {
            "needs_background": "light"
          },
          "output_type": "display_data"
        },
        {
          "name": "stdout",
          "output_type": "stream",
          "text": [
            "+-------+-------------------+---------------------+--------------------+--------------------+--------------------+\n",
            "| Model |        data       | Sensitivity(Recall) |     Precision      |      Accuracy      |      f1 score      |\n",
            "+-------+-------------------+---------------------+--------------------+--------------------+--------------------+\n",
            "|  ANN  | Without game tags |  0.5639627961722695 | 0.5644586681017967 | 0.5658761528326746 | 0.5637757727338357 |\n",
            "+-------+-------------------+---------------------+--------------------+--------------------+--------------------+\n"
          ]
        }
      ],
      "source": [
        "y_pred = estimator.predict(X_test_tf2)\n",
        "\n",
        "cm = confusion_matrix(y_test, y_pred)\n",
        "f1 = f1_score(y_test, y_pred, average='macro')\n",
        "accuracy = accuracy_score(y_test, y_pred)\n",
        "recall = recall_score(y_test, y_pred, average='macro')\n",
        "precision = precision_score(y_test, y_pred, average='macro')\n",
        "\n",
        "\n",
        "f, ax = plt.subplots(figsize =(5,5))\n",
        "sns.heatmap(cm,annot = True,linewidths=0.5,linecolor=\"red\",fmt = \".0f\",ax=ax)\n",
        "plt.xlabel(\"y_pred\")\n",
        "plt.ylabel(\"y_true\")\n",
        "plt.title(\"ANN without game tags\")\n",
        "plt.tight_layout()\n",
        "plt.show()\n",
        "\n",
        "tb1 = pt.PrettyTable()\n",
        "tb1.field_names = [\"Model\", \"data\", \"Sensitivity(Recall)\", \"Precision\", \"Accuracy\", \"f1 score\"]\n",
        "tb1.add_row(['ANN', \"Without game tags\", recall, precision, accuracy, f1])\n",
        "print(tb1)"
      ]
    },
    {
      "cell_type": "code",
      "execution_count": 34,
      "metadata": {
        "colab": {
          "base_uri": "https://localhost:8080/",
          "height": 825
        },
        "id": "nincuKZL1bMh",
        "outputId": "6d297e54-6236-4e99-eeb4-f712aaa14772"
      },
      "outputs": [
        {
          "data": {
            "image/png": "[encoded data removed]",
            "text/plain": [
              "<Figure size 360x360 with 2 Axes>"
            ]
          },
          "metadata": {
            "needs_background": "light"
          },
          "output_type": "display_data"
        },
        {
          "data": {
            "image/png": "[encoded data removed]",
            "text/plain": [
              "<Figure size 360x360 with 2 Axes>"
            ]
          },
          "metadata": {
            "needs_background": "light"
          },
          "output_type": "display_data"
        },
        {
          "name": "stdout",
          "output_type": "stream",
          "text": [
            "+---------------+--------------------------+---------------------+--------------------+--------------------+--------------------+\n",
            "|     Model     |           data           | Sensitivity(Recall) |     Precision      |      Accuracy      |      f1 score      |\n",
            "+---------------+--------------------------+---------------------+--------------------+--------------------+--------------------+\n",
            "| MultinomialNB |  tf-idf with game tags   |  0.7370931567956747 | 0.7386624080655464 | 0.7385814668423364 | 0.7374228987730531 |\n",
            "| MultinomialNB | tf-idf without game tags |  0.8351360510570156 | 0.837286571422349  | 0.8326745718050066 | 0.8325768897644481 |\n",
            "+---------------+--------------------------+---------------------+--------------------+--------------------+--------------------+\n"
          ]
        }
      ],
      "source": [
        "from sklearn.feature_extraction.text import  TfidfTransformer\n",
        "from sklearn.pipeline import Pipeline\n",
        "from sklearn.feature_extraction.text import CountVectorizer\n",
        "from sklearn.feature_extraction.text import TfidfVectorizer\n",
        "\n",
        "pipeline = Pipeline(steps=[\n",
        "    ('tfidf', TfidfVectorizer()),  # integer counts to weighted TF-IDF scores\n",
        "    ('classifier', MultinomialNB()),  # train on TF-IDF vectors w/ Naive Bayes classifier\n",
        "])\n",
        "\n",
        "pipeline.fit(X_train['tags'] + X_train['text'],y_train)\n",
        "\n",
        "y_pred = pipeline.predict(X_test['tags'] + X_test['text'])\n",
        "\n",
        "cm = confusion_matrix(y_test, y_pred)\n",
        "f1 = f1_score(y_test, y_pred, average='macro')\n",
        "accuracy = accuracy_score(y_test, y_pred)\n",
        "recall = recall_score(y_test, y_pred, average='macro')\n",
        "precision = precision_score(y_test, y_pred, average='macro')\n",
        "\n",
        "\n",
        "f, ax = plt.subplots(figsize =(5,5))\n",
        "sns.heatmap(cm,annot = True,linewidths=0.5,linecolor=\"red\",fmt = \".0f\",ax=ax)\n",
        "plt.xlabel(\"y_pred\")\n",
        "plt.ylabel(\"y_true\")\n",
        "plt.title(\"MultinomialNB and tf-idf with game tags\")\n",
        "plt.tight_layout()\n",
        "plt.show()\n",
        "\n",
        "tb1 = pt.PrettyTable()\n",
        "tb1.field_names = [\"Model\", \"data\", \"Sensitivity(Recall)\", \"Precision\", \"Accuracy\", \"f1 score\"]\n",
        "tb1.add_row(['MultinomialNB', \"tf-idf with game tags\", recall, precision, accuracy, f1])\n",
        "\n",
        "\n",
        "pipeline.fit(X_train['text'],y_train)\n",
        "\n",
        "y_pred = pipeline.predict(X_test['text'])\n",
        "\n",
        "cm = confusion_matrix(y_test, y_pred)\n",
        "f1 = f1_score(y_test, y_pred, average='macro')\n",
        "accuracy = accuracy_score(y_test, y_pred)\n",
        "recall = recall_score(y_test, y_pred, average='macro')\n",
        "precision = precision_score(y_test, y_pred, average='macro')\n",
        "\n",
        "\n",
        "f, ax = plt.subplots(figsize =(5,5))\n",
        "sns.heatmap(cm,annot = True,linewidths=0.5,linecolor=\"red\",fmt = \".0f\",ax=ax)\n",
        "plt.xlabel(\"y_pred\")\n",
        "plt.ylabel(\"y_true\")\n",
        "plt.title(\"MultinomialNB and tf-idf without game tags\")\n",
        "plt.tight_layout()\n",
        "plt.show()\n",
        "\n",
        "\n",
        "tb1.add_row(['MultinomialNB', \"tf-idf without game tags\", recall, precision, accuracy, f1])\n",
        "print(tb1)"
      ]
    },
    {
      "cell_type": "code",
      "execution_count": 35,
      "metadata": {
        "colab": {
          "base_uri": "https://localhost:8080/",
          "height": 825
        },
        "id": "ojlFpytei6KJ",
        "outputId": "49152247-dff4-487f-f7f4-a0fb9a0e4aab"
      },
      "outputs": [
        {
          "data": {
            "image/png": "[encoded data removed]",
            "text/plain": [
              "<Figure size 360x360 with 2 Axes>"
            ]
          },
          "metadata": {
            "needs_background": "light"
          },
          "output_type": "display_data"
        },
        {
          "data": {
            "image/png": "[encoded data removed]",
            "text/plain": [
              "<Figure size 360x360 with 2 Axes>"
            ]
          },
          "metadata": {
            "needs_background": "light"
          },
          "output_type": "display_data"
        },
        {
          "name": "stdout",
          "output_type": "stream",
          "text": [
            "+--------------------+--------------------------+---------------------+--------------------+--------------------+--------------------+\n",
            "|       Model        |           data           | Sensitivity(Recall) |     Precision      |      Accuracy      |      f1 score      |\n",
            "+--------------------+--------------------------+---------------------+--------------------+--------------------+--------------------+\n",
            "| LogisticRegression |  tf-idf with game tags   |  0.8243561648811446 | 0.8290001409562596 | 0.8264163372859025 | 0.8251895467103829 |\n",
            "| LogisticRegression | tf-idf without game tags |  0.8520332692905158 | 0.8522575945285058 | 0.852437417654809  | 0.8521348557822392 |\n",
            "+--------------------+--------------------------+---------------------+--------------------+--------------------+--------------------+\n"
          ]
        }
      ],
      "source": [
        "pipeline = Pipeline(steps=[\n",
        "    ('tfidf', TfidfVectorizer()),  # integer counts to weighted TF-IDF scores\n",
        "    ('classifier', LogisticRegression()),  # train on TF-IDF vectors w/ Naive Bayes classifier\n",
        "])\n",
        "\n",
        "pipeline.fit(X_train['tags'] + X_train['text'],y_train)\n",
        "\n",
        "y_pred = pipeline.predict(X_test['tags'] + X_test['text'])\n",
        "\n",
        "cm = confusion_matrix(y_test, y_pred)\n",
        "f1 = f1_score(y_test, y_pred, average='macro')\n",
        "accuracy = accuracy_score(y_test, y_pred)\n",
        "recall = recall_score(y_test, y_pred, average='macro')\n",
        "precision = precision_score(y_test, y_pred, average='macro')\n",
        "\n",
        "\n",
        "f, ax = plt.subplots(figsize =(5,5))\n",
        "sns.heatmap(cm,annot = True,linewidths=0.5,linecolor=\"red\",fmt = \".0f\",ax=ax)\n",
        "plt.xlabel(\"y_pred\")\n",
        "plt.ylabel(\"y_true\")\n",
        "plt.title(\"LogisticRegression and tf-idf with game tags\")\n",
        "plt.tight_layout()\n",
        "plt.show()\n",
        "\n",
        "tb1 = pt.PrettyTable()\n",
        "tb1.field_names = [\"Model\", \"data\", \"Sensitivity(Recall)\", \"Precision\", \"Accuracy\", \"f1 score\"]\n",
        "tb1.add_row(['LogisticRegression', \"tf-idf with game tags\", recall, precision, accuracy, f1])\n",
        "\n",
        "\n",
        "pipeline.fit(X_train['text'],y_train)\n",
        "\n",
        "y_pred = pipeline.predict(X_test['text'])\n",
        "\n",
        "cm = confusion_matrix(y_test, y_pred)\n",
        "f1 = f1_score(y_test, y_pred, average='macro')\n",
        "accuracy = accuracy_score(y_test, y_pred)\n",
        "recall = recall_score(y_test, y_pred, average='macro')\n",
        "precision = precision_score(y_test, y_pred, average='macro')\n",
        "\n",
        "\n",
        "f, ax = plt.subplots(figsize =(5,5))\n",
        "sns.heatmap(cm,annot = True,linewidths=0.5,linecolor=\"red\",fmt = \".0f\",ax=ax)\n",
        "plt.xlabel(\"y_pred\")\n",
        "plt.ylabel(\"y_true\")\n",
        "plt.title(\"LogisticRegression and tf-idf without game tags\")\n",
        "plt.tight_layout()\n",
        "plt.show()\n",
        "\n",
        "\n",
        "tb1.add_row(['LogisticRegression', \"tf-idf without game tags\", recall, precision, accuracy, f1])\n",
        "print(tb1)"
      ]
    },
    {
      "cell_type": "code",
      "execution_count": 36,
      "metadata": {
        "colab": {
          "base_uri": "https://localhost:8080/",
          "height": 1000
        },
        "id": "UDpToph8u4Z4",
        "outputId": "3c45c3b4-a850-46e6-ac95-51858dae055b"
      },
      "outputs": [
        {
          "name": "stdout",
          "output_type": "stream",
          "text": [
            "Compile model ...\n"
          ]
        },
        {
          "name": "stderr",
          "output_type": "stream",
          "text": [
            "/usr/local/lib/python3.7/dist-packages/ipykernel_launcher.py:20: DeprecationWarning: KerasClassifier is deprecated, use Sci-Keras (https://github.com/adriangb/scikeras) instead.\n"
          ]
        },
        {
          "name": "stdout",
          "output_type": "stream",
          "text": [
            "Model: \"sequential_2\"\n",
            "_________________________________________________________________\n",
            " Layer (type)                Output Shape              Param #   \n",
            "=================================================================\n",
            " dense_5 (Dense)             (None, 1024)              32579584  \n",
            "                                                                 \n",
            " dense_6 (Dense)             (None, 512)               524800    \n",
            "                                                                 \n",
            " dense_7 (Dense)             (None, 256)               131328    \n",
            "                                                                 \n",
            " dense_8 (Dense)             (None, 128)               32896     \n",
            "                                                                 \n",
            " dense_9 (Dense)             (None, 2)                 258       \n",
            "                                                                 \n",
            "=================================================================\n",
            "Total params: 33,268,866\n",
            "Trainable params: 33,268,866\n",
            "Non-trainable params: 0\n",
            "_________________________________________________________________\n",
            "Epoch 1/5\n"
          ]
        },
        {
          "name": "stderr",
          "output_type": "stream",
          "text": [
            "/usr/local/lib/python3.7/dist-packages/tensorflow/python/framework/indexed_slices.py:450: UserWarning: Converting sparse IndexedSlices(IndexedSlices(indices=Tensor(\"gradient_tape/sequential_2/dense_5/embedding_lookup_sparse/Reshape_1:0\", shape=(None,), dtype=int32), values=Tensor(\"gradient_tape/sequential_2/dense_5/embedding_lookup_sparse/Reshape:0\", shape=(None, 1024), dtype=float32), dense_shape=Tensor(\"gradient_tape/sequential_2/dense_5/embedding_lookup_sparse/Cast:0\", shape=(2,), dtype=int32))) to a dense Tensor of unknown shape. This may consume a large amount of memory.\n",
            "  \"shape. This may consume a large amount of memory.\" % value)\n"
          ]
        },
        {
          "name": "stdout",
          "output_type": "stream",
          "text": [
            "42/42 [==============================] - 23s 523ms/step - loss: 0.6861 - accuracy: 0.5954 - val_loss: 0.6687 - val_accuracy: 0.6741 - lr: 5.0000e-05\n",
            "Epoch 2/5\n",
            "42/42 [==============================] - 22s 522ms/step - loss: 0.6117 - accuracy: 0.7286 - val_loss: 0.5356 - val_accuracy: 0.7585 - lr: 5.0000e-05\n",
            "Epoch 3/5\n",
            "42/42 [==============================] - 22s 517ms/step - loss: 0.4075 - accuracy: 0.8465 - val_loss: 0.3863 - val_accuracy: 0.8305 - lr: 5.0000e-05\n",
            "Epoch 4/5\n",
            "42/42 [==============================] - 22s 517ms/step - loss: 0.2474 - accuracy: 0.9098 - val_loss: 0.3688 - val_accuracy: 0.8407 - lr: 5.0000e-05\n",
            "Epoch 5/5\n",
            "42/42 [==============================] - 22s 516ms/step - loss: 0.1595 - accuracy: 0.9471 - val_loss: 0.3937 - val_accuracy: 0.8372 - lr: 5.0000e-05\n"
          ]
        },
        {
          "data": {
            "image/png": "[encoded data removed]",
            "text/plain": [
              "<Figure size 360x360 with 2 Axes>"
            ]
          },
          "metadata": {
            "needs_background": "light"
          },
          "output_type": "display_data"
        },
        {
          "name": "stdout",
          "output_type": "stream",
          "text": [
            "+-------+-----------------------+---------------------+--------------------+--------------------+--------------------+\n",
            "| Model |          data         | Sensitivity(Recall) |     Precision      |      Accuracy      |      f1 score      |\n",
            "+-------+-----------------------+---------------------+--------------------+--------------------+--------------------+\n",
            "|  ANN  | tf-idf with game tags |  0.8353916684570832 | 0.8391792943472446 | 0.8371761089152393 | 0.8361890668353711 |\n",
            "+-------+-----------------------+---------------------+--------------------+--------------------+--------------------+\n"
          ]
        }
      ],
      "source": [
        "tf_idf = TfidfVectorizer()\n",
        "X_train_tf = tf_idf.fit_transform(X_train['tags'] + X_train['text']).astype('float16')\n",
        "X_test_tf = tf_idf.transform(X_test['tags'] + X_test['text']).astype('float16')\n",
        "\n",
        "\n",
        "def build_model():\n",
        "    model = Sequential()\n",
        "    model.add(Dense(1024, input_dim=X_train_tf.shape[1], activation='relu'))\n",
        "    model.add(Dense(512, activation='relu'))\n",
        "    model.add(Dense(256, activation='relu'))\n",
        "    model.add(Dense(128, activation='relu'))\n",
        "    model.add(Dense(2, activation='softmax'))\n",
        "    optimizer = keras.optimizers.Adam(learning_rate=5e-5)\n",
        "    model.compile(optimizer=optimizer, loss='categorical_crossentropy', metrics=['accuracy'])\n",
        "    model.summary()\n",
        "    return model\n",
        "\n",
        "print(\"Compile model ...\")\n",
        "callback = tf.keras.callbacks.ReduceLROnPlateau(monitor=\"val_accuracy\", patience=2, verbose=1, factor=0.5, min_lr=5e-6)\n",
        "estimator = KerasClassifier(build_fn=build_model, epochs=5, batch_size=512)\n",
        "estimator.fit(X_train_tf, y_train, validation_data=(X_test_tf, y_test_transform), callbacks=[callback])\n",
        "\n",
        "\n",
        "y_pred = estimator.predict(X_test_tf)\n",
        "\n",
        "cm = confusion_matrix(y_test, y_pred)\n",
        "f1 = f1_score(y_test, y_pred, average='macro')\n",
        "accuracy = accuracy_score(y_test, y_pred)\n",
        "recall = recall_score(y_test, y_pred, average='macro')\n",
        "precision = precision_score(y_test, y_pred, average='macro')\n",
        "\n",
        "\n",
        "f, ax = plt.subplots(figsize =(5,5))\n",
        "sns.heatmap(cm,annot = True,linewidths=0.5,linecolor=\"red\",fmt = \".0f\",ax=ax)\n",
        "plt.xlabel(\"y_pred\")\n",
        "plt.ylabel(\"y_true\")\n",
        "plt.title(\"ANN and tf-idf with game tags\")\n",
        "plt.tight_layout()\n",
        "plt.show()\n",
        "\n",
        "tb1 = pt.PrettyTable()\n",
        "tb1.field_names = [\"Model\", \"data\", \"Sensitivity(Recall)\", \"Precision\", \"Accuracy\", \"f1 score\"]\n",
        "tb1.add_row(['ANN', \"tf-idf with game tags\", recall, precision, accuracy, f1])\n",
        "print(tb1)"
      ]
    },
    {
      "cell_type": "code",
      "execution_count": 37,
      "metadata": {
        "colab": {
          "base_uri": "https://localhost:8080/",
          "height": 1000
        },
        "id": "IWGfn62ex8kr",
        "outputId": "62103f99-46c4-464c-eba8-2f202117f03c"
      },
      "outputs": [
        {
          "name": "stdout",
          "output_type": "stream",
          "text": [
            "Compile model ...\n"
          ]
        },
        {
          "name": "stderr",
          "output_type": "stream",
          "text": [
            "/usr/local/lib/python3.7/dist-packages/ipykernel_launcher.py:20: DeprecationWarning: KerasClassifier is deprecated, use Sci-Keras (https://github.com/adriangb/scikeras) instead.\n"
          ]
        },
        {
          "name": "stdout",
          "output_type": "stream",
          "text": [
            "Model: \"sequential_3\"\n",
            "_________________________________________________________________\n",
            " Layer (type)                Output Shape              Param #   \n",
            "=================================================================\n",
            " dense_10 (Dense)            (None, 1024)              24931328  \n",
            "                                                                 \n",
            " dense_11 (Dense)            (None, 512)               524800    \n",
            "                                                                 \n",
            " dense_12 (Dense)            (None, 256)               131328    \n",
            "                                                                 \n",
            " dense_13 (Dense)            (None, 128)               32896     \n",
            "                                                                 \n",
            " dense_14 (Dense)            (None, 2)                 258       \n",
            "                                                                 \n",
            "=================================================================\n",
            "Total params: 25,620,610\n",
            "Trainable params: 25,620,610\n",
            "Non-trainable params: 0\n",
            "_________________________________________________________________\n",
            "Epoch 1/5\n"
          ]
        },
        {
          "name": "stderr",
          "output_type": "stream",
          "text": [
            "/usr/local/lib/python3.7/dist-packages/tensorflow/python/framework/indexed_slices.py:450: UserWarning: Converting sparse IndexedSlices(IndexedSlices(indices=Tensor(\"gradient_tape/sequential_3/dense_10/embedding_lookup_sparse/Reshape_1:0\", shape=(None,), dtype=int32), values=Tensor(\"gradient_tape/sequential_3/dense_10/embedding_lookup_sparse/Reshape:0\", shape=(None, 1024), dtype=float32), dense_shape=Tensor(\"gradient_tape/sequential_3/dense_10/embedding_lookup_sparse/Cast:0\", shape=(2,), dtype=int32))) to a dense Tensor of unknown shape. This may consume a large amount of memory.\n",
            "  \"shape. This may consume a large amount of memory.\" % value)\n"
          ]
        },
        {
          "name": "stdout",
          "output_type": "stream",
          "text": [
            "42/42 [==============================] - 17s 397ms/step - loss: 0.6867 - accuracy: 0.6457 - val_loss: 0.6719 - val_accuracy: 0.7456 - lr: 5.0000e-05\n",
            "Epoch 2/5\n",
            "42/42 [==============================] - 17s 396ms/step - loss: 0.6124 - accuracy: 0.8127 - val_loss: 0.5216 - val_accuracy: 0.8249 - lr: 5.0000e-05\n",
            "Epoch 3/5\n",
            "42/42 [==============================] - 17s 395ms/step - loss: 0.3771 - accuracy: 0.8801 - val_loss: 0.3484 - val_accuracy: 0.8524 - lr: 5.0000e-05\n",
            "Epoch 4/5\n",
            "42/42 [==============================] - 17s 395ms/step - loss: 0.2298 - accuracy: 0.9160 - val_loss: 0.3384 - val_accuracy: 0.8535 - lr: 5.0000e-05\n",
            "Epoch 5/5\n",
            "42/42 [==============================] - 17s 395ms/step - loss: 0.1674 - accuracy: 0.9435 - val_loss: 0.3592 - val_accuracy: 0.8524 - lr: 5.0000e-05\n"
          ]
        },
        {
          "data": {
            "image/png": "[encoded data removed]",
            "text/plain": [
              "<Figure size 360x360 with 2 Axes>"
            ]
          },
          "metadata": {
            "needs_background": "light"
          },
          "output_type": "display_data"
        },
        {
          "name": "stdout",
          "output_type": "stream",
          "text": [
            "+-------+--------------------------+---------------------+-------------------+-------------------+--------------------+\n",
            "| Model |           data           | Sensitivity(Recall) |     Precision     |      Accuracy     |      f1 score      |\n",
            "+-------+--------------------------+---------------------+-------------------+-------------------+--------------------+\n",
            "|  ANN  | tf-idf without game tags |  0.8515927495080863 | 0.852700521451132 | 0.852437417654809 | 0.8519769376620362 |\n",
            "+-------+--------------------------+---------------------+-------------------+-------------------+--------------------+\n"
          ]
        }
      ],
      "source": [
        "tf_idf = TfidfVectorizer()\n",
        "X_train_tf2 = tf_idf.fit_transform(X_train['text']).astype('float16')\n",
        "X_test_tf2 = tf_idf.transform(X_test['text']).astype('float16')\n",
        "\n",
        "\n",
        "def build_model():\n",
        "    model = Sequential()\n",
        "    model.add(Dense(1024, input_dim=X_train_tf2.shape[1], activation='relu'))\n",
        "    model.add(Dense(512, activation='relu'))\n",
        "    model.add(Dense(256, activation='relu'))\n",
        "    model.add(Dense(128, activation='relu'))\n",
        "    model.add(Dense(2, activation='softmax'))\n",
        "    optimizer = keras.optimizers.Adam(learning_rate=5e-5)\n",
        "    model.compile(optimizer=optimizer, loss='categorical_crossentropy', metrics=['accuracy'])\n",
        "    model.summary()\n",
        "    return model\n",
        "\n",
        "print(\"Compile model ...\")\n",
        "callback = tf.keras.callbacks.ReduceLROnPlateau(monitor=\"val_accuracy\", patience=2, verbose=1, factor=0.5, min_lr=5e-6)\n",
        "estimator = KerasClassifier(build_fn=build_model, epochs=5, batch_size=512)\n",
        "estimator.fit(X_train_tf2, y_train, validation_data=(X_test_tf2, y_test_transform), callbacks=[callback])\n",
        "\n",
        "y_pred = estimator.predict(X_test_tf2)\n",
        "\n",
        "cm = confusion_matrix(y_test, y_pred)\n",
        "f1 = f1_score(y_test, y_pred, average='macro')\n",
        "accuracy = accuracy_score(y_test, y_pred)\n",
        "recall = recall_score(y_test, y_pred, average='macro')\n",
        "precision = precision_score(y_test, y_pred, average='macro')\n",
        "\n",
        "\n",
        "f, ax = plt.subplots(figsize =(5,5))\n",
        "sns.heatmap(cm,annot = True,linewidths=0.5,linecolor=\"red\",fmt = \".0f\",ax=ax)\n",
        "plt.xlabel(\"y_pred\")\n",
        "plt.ylabel(\"y_true\")\n",
        "plt.title(\"ANN and tf-idf without game tags\")\n",
        "plt.tight_layout()\n",
        "plt.show()\n",
        "\n",
        "tb1 = pt.PrettyTable()\n",
        "tb1.field_names = [\"Model\", \"data\", \"Sensitivity(Recall)\", \"Precision\", \"Accuracy\", \"f1 score\"]\n",
        "tb1.add_row(['ANN', \"tf-idf without game tags\", recall, precision, accuracy, f1])\n",
        "print(tb1)"
      ]
    },
    {
      "cell_type": "code",
      "execution_count": 46,
      "metadata": {
        "colab": {
          "base_uri": "https://localhost:8080/"
        },
        "id": "RdKMSv8RNR1h",
        "outputId": "5d734735-d56e-4356-e595-1bd9170fe9e5"
      },
      "outputs": [
        {
          "name": "stdout",
          "output_type": "stream",
          "text": [
            "please enter a review:\n",
            "Not the new gen though. But good.\n",
            "positive review!\n",
            "\n",
            "please enter a review:\n",
            "Not as exciting as the 11th installment, but complex and dramatic enough for Three Kingdom fans.\n",
            "positive review!\n",
            "\n",
            "please enter a review:\n",
            "Can be fun with a dedicated group of people who communicate well. Even so, it often got pretty frustrating for us. Just wave after wave of zombies, and you can't ever really stop. Always felt stressful, even when we were killing it.\n",
            "negative review :(\n",
            "\n",
            "please enter a review:\n",
            "Sadly this is not anything like left 4 dead but it doesn’t mind riding the coattails of the title. It seems TR come up with good ideas for games but poorly execute them. The game feels lifeless and boring. Character don’t have personality and so can’t bounce off one another. All levels just feels the same. Balancing is bad. Online is toxic. No real versus mode. The list goes on and on and on. Maybe add a workshop option to give this game a fighting chance.\\nMy verdict….Uninstalled with no desire to return.\n",
            "negative review :(\n",
            "\n",
            "please enter a review:\n",
            "very fun to play when you have no friends\n",
            "positive review!\n",
            "\n",
            "please enter a review:\n",
            "Just buy left4dead2 instead\n",
            "negative review :(\n",
            "\n",
            "please enter a review:\n",
            "fricking cool man\n",
            "positive review!\n",
            "\n",
            "please enter a review:\n",
            "my traditional game of all time\n",
            "positive review!\n",
            "\n",
            "please enter a review:\n",
            "I prefer L4D\n",
            "positive review!\n",
            "\n",
            "please enter a review:\n",
            "exit\n"
          ]
        }
      ],
      "source": [
        "while True:\n",
        "  print(\"please enter a review:\")\n",
        "  review = []\n",
        "  new = input()\n",
        "  review.append(new)\n",
        "  if(new == \"exit\"):\n",
        "    break\n",
        "  test = tf_idf.transform(review).astype('float16')\n",
        "  pred = estimator.predict(test)\n",
        "  if(pred == 1):\n",
        "    print(\"positive review!\\n\")\n",
        "  else:\n",
        "    print(\"negative review :(\\n\")"
      ]
    }
  ],
  "metadata": {
    "colab": {
      "collapsed_sections": [],
      "name": "Steam Review Sentiment Classification",
      "provenance": []
    },
    "interpreter": {
      "hash": "25bf1dab56f13e21d80318cd5e789e076f92a14fa9924f370a2a818164c863f4"
    },
    "kernelspec": {
      "display_name": "Python 3.9.2 64-bit",
      "name": "python3"
    },
    "language_info": {
      "codemirror_mode": {
        "name": "ipython",
        "version": 3
      },
      "file_extension": ".py",
      "mimetype": "text/x-python",
      "name": "python",
      "nbconvert_exporter": "python",
      "pygments_lexer": "ipython3",
      "version": "3.9.2"
    }
  },
  "nbformat": 4,
  "nbformat_minor": 0
}
